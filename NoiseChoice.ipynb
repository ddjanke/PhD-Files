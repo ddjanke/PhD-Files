{
 "cells": [
  {
   "cell_type": "code",
   "execution_count": 1,
   "metadata": {},
   "outputs": [],
   "source": [
    "import numpy as np\n",
    "import seaborn as sns\n",
    "import matplotlib.pyplot as plt\n",
    "from scipy.stats import norm\n"
   ]
  },
  {
   "cell_type": "code",
   "execution_count": 5,
   "metadata": {},
   "outputs": [
    {
     "name": "stdout",
     "output_type": "stream",
     "text": [
      "0.8567445451322488\n",
      "0.267930375576559\n"
     ]
    },
    {
     "data": {
      "text/plain": [
       "[<matplotlib.lines.Line2D at 0x7f1a64215e90>]"
      ]
     },
     "execution_count": 5,
     "metadata": {},
     "output_type": "execute_result"
    },
    {
     "data": {
      "image/png": "[encoded data removed]",
      "text/plain": [
       "<Figure size 432x288 with 1 Axes>"
      ]
     },
     "metadata": {
      "needs_background": "light"
     },
     "output_type": "display_data"
    }
   ],
   "source": [
    "mult_scale = 6\n",
    "add_scale = 1\n",
    "x = np.linspace(-5,5,1000)\n",
    "y = norm.pdf(x, loc = 0, scale = 3 * 0.07)    # for example\n",
    "\n",
    "mult = mult_scale * np.random.normal(loc = 0, scale = 0.035, size = 10000)\n",
    "print(mult.max())\n",
    "add = np.random.normal(loc = 0, scale = 0.07 * add_scale, size = 10000)\n",
    "print(add.max())\n",
    "#both = (np.absolute(mult) + np.absolute(add)) * (2 * (add >= 0) - 1)\n",
    "both = (mult + add)\n",
    "\n",
    "sns.distplot(both, bins = 100, kde = True, hist = True)\n",
    "plt.plot(x,y)\n",
    "#plt.legend([\"Standard Normal PDF\", \"Data at t = {}\".format(t*48)])"
   ]
  },
  {
   "cell_type": "code",
   "execution_count": null,
   "metadata": {},
   "outputs": [],
   "source": []
  },
  {
   "cell_type": "code",
   "execution_count": null,
   "metadata": {},
   "outputs": [],
   "source": []
  }
 ],
 "metadata": {
  "kernelspec": {
   "display_name": "Python 3",
   "language": "python",
   "name": "python3"
  },
  "language_info": {
   "codemirror_mode": {
    "name": "ipython",
    "version": 3
   },
   "file_extension": ".py",
   "mimetype": "text/x-python",
   "name": "python",
   "nbconvert_exporter": "python",
   "pygments_lexer": "ipython3",
   "version": "3.8.5"
  }
 },
 "nbformat": 4,
 "nbformat_minor": 4
}
