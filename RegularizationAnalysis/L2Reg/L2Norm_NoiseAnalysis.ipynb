{
 "cells": [
  {
   "cell_type": "code",
   "execution_count": 1,
   "metadata": {},
   "outputs": [],
   "source": [
    "import pandas as pd\n",
    "import json\n",
    "import seaborn as sns\n",
    "import numpy as np\n",
    "import matplotlib.pyplot as plt\n",
    "\n",
    "sns.set_style(rc={'figure.figsize':(3.25,1), 'font.family':\"Times New Roman\",\n",
    "                                  'font.size': 8, 'dpi': 300})\n",
    "\n",
    "plots = \"/home/djanke3/Documents/Spyder/plots/\""
   ]
  },
  {
   "cell_type": "code",
   "execution_count": 2,
   "metadata": {},
   "outputs": [
    {
     "name": "stdout",
     "output_type": "stream",
     "text": [
      "(330000, 3)\n"
     ]
    },
    {
     "data": {
      "text/html": [
       "<div>\n",
       "<style scoped>\n",
       "    .dataframe tbody tr th:only-of-type {\n",
       "        vertical-align: middle;\n",
       "    }\n",
       "\n",
       "    .dataframe tbody tr th {\n",
       "        vertical-align: top;\n",
       "    }\n",
       "\n",
       "    .dataframe thead th {\n",
       "        text-align: right;\n",
       "    }\n",
       "</style>\n",
       "<table border=\"1\" class=\"dataframe\">\n",
       "  <thead>\n",
       "    <tr style=\"text-align: right;\">\n",
       "      <th></th>\n",
       "      <th>train</th>\n",
       "      <th>val</th>\n",
       "      <th>wd</th>\n",
       "    </tr>\n",
       "  </thead>\n",
       "  <tbody>\n",
       "    <tr>\n",
       "      <th>0</th>\n",
       "      <td>0.838411</td>\n",
       "      <td>0.826693</td>\n",
       "      <td>0.0</td>\n",
       "    </tr>\n",
       "    <tr>\n",
       "      <th>1</th>\n",
       "      <td>0.831380</td>\n",
       "      <td>0.821745</td>\n",
       "      <td>0.0</td>\n",
       "    </tr>\n",
       "    <tr>\n",
       "      <th>2</th>\n",
       "      <td>0.742795</td>\n",
       "      <td>0.730078</td>\n",
       "      <td>0.0</td>\n",
       "    </tr>\n",
       "    <tr>\n",
       "      <th>3</th>\n",
       "      <td>0.815712</td>\n",
       "      <td>0.827474</td>\n",
       "      <td>0.0</td>\n",
       "    </tr>\n",
       "    <tr>\n",
       "      <th>4</th>\n",
       "      <td>0.798785</td>\n",
       "      <td>0.778516</td>\n",
       "      <td>0.0</td>\n",
       "    </tr>\n",
       "  </tbody>\n",
       "</table>\n",
       "</div>"
      ],
      "text/plain": [
       "      train       val   wd\n",
       "0  0.838411  0.826693  0.0\n",
       "1  0.831380  0.821745  0.0\n",
       "2  0.742795  0.730078  0.0\n",
       "3  0.815712  0.827474  0.0\n",
       "4  0.798785  0.778516  0.0"
      ]
     },
     "execution_count": 2,
     "metadata": {},
     "output_type": "execute_result"
    }
   ],
   "source": [
    "with open(\"L2Norm_w_Noise1.json\", 'r') as f:\n",
    "    data = json.load(f)\n",
    "    \n",
    "df = pd.DataFrame()\n",
    "\n",
    "data_stats = {}\n",
    "for i,d in data.items():\n",
    "    ys = d[\"accs\"]\n",
    "    #ys[\"f1train\"] = d[\"f1s\"][\"train\"]\n",
    "    #ys[\"f1val\"] = d[\"f1s\"][\"val\"]\n",
    "    temp_df =  pd.DataFrame.from_dict(ys, orient = \"columns\")\n",
    "    temp_df[\"wd\"] = d[\"weight_decay\"]\n",
    "    df = pd.concat([df, temp_df], ignore_index = True)\n",
    "    \n",
    "    data_stats[i] = {}\n",
    "    data_stats[i][\"wd\"] = d[\"weight_decay\"]\n",
    "    data_stats[i][\"median_train\"] = np.median(d[\"accs\"][\"train\"])\n",
    "    data_stats[i][\"median_val\"] = np.median(d[\"accs\"][\"val\"])\n",
    "    data_stats[i][\"iqr_train\"] = np.quantile(d[\"accs\"][\"train\"], 0.75) - np.quantile(d[\"accs\"][\"train\"], 0.25)\n",
    "    data_stats[i][\"iqr_val\"] = np.quantile(d[\"accs\"][\"val\"], 0.75) - np.quantile(d[\"accs\"][\"val\"], 0.25)\n",
    "print(df.shape)\n",
    "df.head()\n",
    "    "
   ]
  },
  {
   "cell_type": "code",
   "execution_count": 3,
   "metadata": {},
   "outputs": [
    {
     "data": {
      "text/html": [
       "<div>\n",
       "<style scoped>\n",
       "    .dataframe tbody tr th:only-of-type {\n",
       "        vertical-align: middle;\n",
       "    }\n",
       "\n",
       "    .dataframe tbody tr th {\n",
       "        vertical-align: top;\n",
       "    }\n",
       "\n",
       "    .dataframe thead th {\n",
       "        text-align: right;\n",
       "    }\n",
       "</style>\n",
       "<table border=\"1\" class=\"dataframe\">\n",
       "  <thead>\n",
       "    <tr style=\"text-align: right;\">\n",
       "      <th></th>\n",
       "      <th>wd</th>\n",
       "      <th>variable</th>\n",
       "      <th>value</th>\n",
       "    </tr>\n",
       "  </thead>\n",
       "  <tbody>\n",
       "    <tr>\n",
       "      <th>0</th>\n",
       "      <td>0.0</td>\n",
       "      <td>train</td>\n",
       "      <td>0.838411</td>\n",
       "    </tr>\n",
       "    <tr>\n",
       "      <th>1</th>\n",
       "      <td>0.0</td>\n",
       "      <td>train</td>\n",
       "      <td>0.831380</td>\n",
       "    </tr>\n",
       "    <tr>\n",
       "      <th>2</th>\n",
       "      <td>0.0</td>\n",
       "      <td>train</td>\n",
       "      <td>0.742795</td>\n",
       "    </tr>\n",
       "    <tr>\n",
       "      <th>3</th>\n",
       "      <td>0.0</td>\n",
       "      <td>train</td>\n",
       "      <td>0.815712</td>\n",
       "    </tr>\n",
       "    <tr>\n",
       "      <th>4</th>\n",
       "      <td>0.0</td>\n",
       "      <td>train</td>\n",
       "      <td>0.798785</td>\n",
       "    </tr>\n",
       "  </tbody>\n",
       "</table>\n",
       "</div>"
      ],
      "text/plain": [
       "    wd variable     value\n",
       "0  0.0    train  0.838411\n",
       "1  0.0    train  0.831380\n",
       "2  0.0    train  0.742795\n",
       "3  0.0    train  0.815712\n",
       "4  0.0    train  0.798785"
      ]
     },
     "execution_count": 3,
     "metadata": {},
     "output_type": "execute_result"
    }
   ],
   "source": [
    "df = pd.melt(df,id_vars = \"wd\", value_vars = [\"train\", \"val\"])\n",
    "df.head()\n"
   ]
  },
  {
   "cell_type": "code",
   "execution_count": 4,
   "metadata": {},
   "outputs": [
    {
     "data": {
      "text/plain": [
       "<matplotlib.axes._subplots.AxesSubplot at 0x7fceec77af50>"
      ]
     },
     "execution_count": 4,
     "metadata": {},
     "output_type": "execute_result"
    },
    {
     "data": {
      "image/png": "[encoded data removed]",
      "text/plain": [
       "<Figure size 1080x720 with 1 Axes>"
      ]
     },
     "metadata": {
      "needs_background": "light"
     },
     "output_type": "display_data"
    }
   ],
   "source": [
    "plt.figure(figsize = (15, 10))\n",
    "sns.boxenplot(x = \"wd\", y = \"value\", hue = \"variable\", data = df)"
   ]
  },
  {
   "cell_type": "code",
   "execution_count": 5,
   "metadata": {},
   "outputs": [
    {
     "data": {
      "text/html": [
       "<div>\n",
       "<style scoped>\n",
       "    .dataframe tbody tr th:only-of-type {\n",
       "        vertical-align: middle;\n",
       "    }\n",
       "\n",
       "    .dataframe tbody tr th {\n",
       "        vertical-align: top;\n",
       "    }\n",
       "\n",
       "    .dataframe thead th {\n",
       "        text-align: right;\n",
       "    }\n",
       "</style>\n",
       "<table border=\"1\" class=\"dataframe\">\n",
       "  <thead>\n",
       "    <tr style=\"text-align: right;\">\n",
       "      <th></th>\n",
       "      <th>wd</th>\n",
       "      <th>median_train</th>\n",
       "      <th>median_val</th>\n",
       "      <th>iqr_train</th>\n",
       "      <th>iqr_val</th>\n",
       "    </tr>\n",
       "  </thead>\n",
       "  <tbody>\n",
       "    <tr>\n",
       "      <th>trial0(12, 15, 9, 3, 1)00</th>\n",
       "      <td>0.0</td>\n",
       "      <td>0.782205</td>\n",
       "      <td>0.772396</td>\n",
       "      <td>0.103798</td>\n",
       "      <td>0.107487</td>\n",
       "    </tr>\n",
       "    <tr>\n",
       "      <th>trial1(12, 15, 9, 3, 1)00</th>\n",
       "      <td>0.0</td>\n",
       "      <td>0.769097</td>\n",
       "      <td>0.760221</td>\n",
       "      <td>0.102062</td>\n",
       "      <td>0.108203</td>\n",
       "    </tr>\n",
       "    <tr>\n",
       "      <th>trial2(12, 15, 9, 3, 1)00</th>\n",
       "      <td>0.0</td>\n",
       "      <td>0.752040</td>\n",
       "      <td>0.747656</td>\n",
       "      <td>0.128722</td>\n",
       "      <td>0.130794</td>\n",
       "    </tr>\n",
       "    <tr>\n",
       "      <th>trial3(12, 15, 9, 3, 1)00</th>\n",
       "      <td>0.0</td>\n",
       "      <td>0.766016</td>\n",
       "      <td>0.756380</td>\n",
       "      <td>0.123622</td>\n",
       "      <td>0.129655</td>\n",
       "    </tr>\n",
       "    <tr>\n",
       "      <th>trial4(12, 15, 9, 3, 1)00</th>\n",
       "      <td>0.0</td>\n",
       "      <td>0.765126</td>\n",
       "      <td>0.755404</td>\n",
       "      <td>0.115571</td>\n",
       "      <td>0.122591</td>\n",
       "    </tr>\n",
       "  </tbody>\n",
       "</table>\n",
       "</div>"
      ],
      "text/plain": [
       "                            wd  median_train  median_val  iqr_train   iqr_val\n",
       "trial0(12, 15, 9, 3, 1)00  0.0      0.782205    0.772396   0.103798  0.107487\n",
       "trial1(12, 15, 9, 3, 1)00  0.0      0.769097    0.760221   0.102062  0.108203\n",
       "trial2(12, 15, 9, 3, 1)00  0.0      0.752040    0.747656   0.128722  0.130794\n",
       "trial3(12, 15, 9, 3, 1)00  0.0      0.766016    0.756380   0.123622  0.129655\n",
       "trial4(12, 15, 9, 3, 1)00  0.0      0.765126    0.755404   0.115571  0.122591"
      ]
     },
     "execution_count": 5,
     "metadata": {},
     "output_type": "execute_result"
    }
   ],
   "source": [
    "sdf = pd.DataFrame.from_dict(data_stats, orient = \"index\")\n",
    "sdf.head()"
   ]
  },
  {
   "cell_type": "code",
   "execution_count": 13,
   "metadata": {},
   "outputs": [
    {
     "name": "stderr",
     "output_type": "stream",
     "text": [
      "/home/djanke3/anaconda3/lib/python3.7/site-packages/pandas/core/indexing.py:671: SettingWithCopyWarning: \n",
      "A value is trying to be set on a copy of a slice from a DataFrame\n",
      "\n",
      "See the caveats in the documentation: https://pandas.pydata.org/pandas-docs/stable/user_guide/indexing.html#returning-a-view-versus-a-copy\n",
      "  self._setitem_with_indexer(indexer, value)\n",
      "/home/djanke3/anaconda3/lib/python3.7/site-packages/ipykernel_launcher.py:3: SettingWithCopyWarning: \n",
      "A value is trying to be set on a copy of a slice from a DataFrame\n",
      "\n",
      "See the caveats in the documentation: https://pandas.pydata.org/pandas-docs/stable/user_guide/indexing.html#returning-a-view-versus-a-copy\n",
      "  This is separate from the ipykernel package so we can avoid doing imports until\n"
     ]
    },
    {
     "data": {
      "image/png": "[encoded data removed]",
      "text/plain": [
       "<Figure size 126x108 with 1 Axes>"
      ]
     },
     "metadata": {
      "needs_background": "light"
     },
     "output_type": "display_data"
    }
   ],
   "source": [
    "med_df = sdf[[\"wd\", \"median_train\", \"median_val\"]]\n",
    "med_df.columns = [\"wd\", \"train\", \"val\"]\n",
    "med_df.loc[med_df[\"wd\"] == 0, \"wd\"] = 1e-6\n",
    "med_df = pd.melt(med_df,id_vars = \"wd\", value_vars = [\"train\", \"val\"])\n",
    "med_df[\"value\"] *= 100\n",
    "\n",
    "fig = plt.figure()\n",
    "fig.set_figheight(1.5)\n",
    "fig.set_figwidth(1.75)\n",
    "\n",
    "plt0 = sns.lineplot(x = \"wd\", y =\"value\", data = med_df, hue = \"variable\", palette=sns.cubehelix_palette(2))\n",
    "plt.xscale(\"log\")\n",
    "handles, labels = plt0.get_legend_handles_labels()\n",
    "plt0.legend(handles[1:], labels[1:], edgecolor='black', fancybox=False, loc='lower left',\n",
    "           handlelength = 0.5, handletextpad = 0.5, columnspacing = 0.5)\n",
    "\n",
    "plt0.tick_params(axis='both', which='major', pad=0)\n",
    "plt.ylabel(\"Median\\nAccuracy (%)\", labelpad = 0)\n",
    "plt.xlabel(\"Weight Decay Rate\", labelpad = 0)\n",
    "plt.ylim([60, 80])\n",
    "\n",
    "fig = plt0.get_figure()\n",
    "figname = plots + \"VAD_L2_medians.pdf\"\n",
    "fig.savefig(figname, dpi=300, bbox_inches='tight')\n",
    "#plt.show()"
   ]
  },
  {
   "cell_type": "code",
   "execution_count": 14,
   "metadata": {},
   "outputs": [
    {
     "name": "stderr",
     "output_type": "stream",
     "text": [
      "/home/djanke3/anaconda3/lib/python3.7/site-packages/pandas/core/indexing.py:671: SettingWithCopyWarning: \n",
      "A value is trying to be set on a copy of a slice from a DataFrame\n",
      "\n",
      "See the caveats in the documentation: https://pandas.pydata.org/pandas-docs/stable/user_guide/indexing.html#returning-a-view-versus-a-copy\n",
      "  self._setitem_with_indexer(indexer, value)\n",
      "/home/djanke3/anaconda3/lib/python3.7/site-packages/ipykernel_launcher.py:3: SettingWithCopyWarning: \n",
      "A value is trying to be set on a copy of a slice from a DataFrame\n",
      "\n",
      "See the caveats in the documentation: https://pandas.pydata.org/pandas-docs/stable/user_guide/indexing.html#returning-a-view-versus-a-copy\n",
      "  This is separate from the ipykernel package so we can avoid doing imports until\n"
     ]
    },
    {
     "data": {
      "image/png": "[encoded data removed]",
      "text/plain": [
       "<Figure size 126x108 with 1 Axes>"
      ]
     },
     "metadata": {
      "needs_background": "light"
     },
     "output_type": "display_data"
    }
   ],
   "source": [
    "iqr_df = sdf[[\"wd\", \"iqr_train\", \"iqr_val\"]]\n",
    "iqr_df.columns = [\"wd\", \"train\", \"val\"]\n",
    "iqr_df.loc[iqr_df[\"wd\"] == 0, \"wd\"] = 1e-6\n",
    "iqr_df = pd.melt(iqr_df,id_vars = \"wd\", value_vars = [\"train\", \"val\"])\n",
    "iqr_df[\"value\"] *= 100\n",
    "\n",
    "fig = plt.figure()\n",
    "fig.set_figheight(1.5)\n",
    "fig.set_figwidth(1.75)\n",
    "\n",
    "plt0 = sns.lineplot(x = \"wd\", y =\"value\", data = iqr_df, hue = \"variable\", palette=sns.cubehelix_palette(2))\n",
    "plt.xscale(\"log\")\n",
    "handles, labels = plt0.get_legend_handles_labels()\n",
    "plt0.legend(handles[1:], labels[1:], loc = \"upper left\", ncol = 2, edgecolor='black', fancybox=False,\n",
    "           handlelength = 0.5, handletextpad = 0.5, columnspacing = 0.5)\n",
    "\n",
    "plt0.tick_params(axis='both', which='major', pad=0)\n",
    "plt.ylabel(\"Inter-quartile\\nRange (%)\", labelpad=0)\n",
    "plt.xlabel(\"Weight Decay Rate\", labelpad=0)\n",
    "plt.ylim([0,20])\n",
    "\n",
    "fig = plt0.get_figure()\n",
    "figname = plots + \"VAD_L2_iqr.pdf\"\n",
    "fig.savefig(figname, dpi=300, bbox_inches='tight')\n",
    "#plt.show()"
   ]
  }
 ],
 "metadata": {
  "kernelspec": {
   "display_name": "Python 3",
   "language": "python",
   "name": "python3"
  },
  "language_info": {
   "codemirror_mode": {
    "name": "ipython",
    "version": 3
   },
   "file_extension": ".py",
   "mimetype": "text/x-python",
   "name": "python",
   "nbconvert_exporter": "python",
   "pygments_lexer": "ipython3",
   "version": "3.7.9"
  }
 },
 "nbformat": 4,
 "nbformat_minor": 4
}
