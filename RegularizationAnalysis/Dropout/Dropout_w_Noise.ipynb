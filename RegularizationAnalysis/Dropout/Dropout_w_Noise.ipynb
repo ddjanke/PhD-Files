{
 "cells": [
  {
   "cell_type": "code",
   "execution_count": 18,
   "metadata": {},
   "outputs": [],
   "source": [
    "import pandas as pd\n",
    "import json\n",
    "import seaborn as sns\n",
    "import numpy as np\n",
    "import matplotlib.pyplot as plt\n",
    "\n",
    "sns.set_style(rc={'figure.figsize':(3.25,1), 'font.family':\"Times New Roman\",\n",
    "                                  'font.size': 8, 'dpi': 300})\n",
    "\n",
    "plots = \"/home/djanke3/Documents/Spyder/plots/\""
   ]
  },
  {
   "cell_type": "code",
   "execution_count": 19,
   "metadata": {},
   "outputs": [
    {
     "name": "stdout",
     "output_type": "stream",
     "text": [
      "(165000, 4)\n"
     ]
    },
    {
     "data": {
      "text/html": [
       "<div>\n",
       "<style scoped>\n",
       "    .dataframe tbody tr th:only-of-type {\n",
       "        vertical-align: middle;\n",
       "    }\n",
       "\n",
       "    .dataframe tbody tr th {\n",
       "        vertical-align: top;\n",
       "    }\n",
       "\n",
       "    .dataframe thead th {\n",
       "        text-align: right;\n",
       "    }\n",
       "</style>\n",
       "<table border=\"1\" class=\"dataframe\">\n",
       "  <thead>\n",
       "    <tr style=\"text-align: right;\">\n",
       "      <th></th>\n",
       "      <th>train</th>\n",
       "      <th>val</th>\n",
       "      <th>do</th>\n",
       "      <th>shape</th>\n",
       "    </tr>\n",
       "  </thead>\n",
       "  <tbody>\n",
       "    <tr>\n",
       "      <th>0</th>\n",
       "      <td>0.758420</td>\n",
       "      <td>0.756250</td>\n",
       "      <td>0.0</td>\n",
       "      <td>[12, 15, 9, 3, 1]</td>\n",
       "    </tr>\n",
       "    <tr>\n",
       "      <th>1</th>\n",
       "      <td>0.750391</td>\n",
       "      <td>0.742448</td>\n",
       "      <td>0.0</td>\n",
       "      <td>[12, 15, 9, 3, 1]</td>\n",
       "    </tr>\n",
       "    <tr>\n",
       "      <th>2</th>\n",
       "      <td>0.690712</td>\n",
       "      <td>0.673177</td>\n",
       "      <td>0.0</td>\n",
       "      <td>[12, 15, 9, 3, 1]</td>\n",
       "    </tr>\n",
       "    <tr>\n",
       "      <th>3</th>\n",
       "      <td>0.826259</td>\n",
       "      <td>0.823698</td>\n",
       "      <td>0.0</td>\n",
       "      <td>[12, 15, 9, 3, 1]</td>\n",
       "    </tr>\n",
       "    <tr>\n",
       "      <th>4</th>\n",
       "      <td>0.776259</td>\n",
       "      <td>0.777995</td>\n",
       "      <td>0.0</td>\n",
       "      <td>[12, 15, 9, 3, 1]</td>\n",
       "    </tr>\n",
       "  </tbody>\n",
       "</table>\n",
       "</div>"
      ],
      "text/plain": [
       "      train       val   do              shape\n",
       "0  0.758420  0.756250  0.0  [12, 15, 9, 3, 1]\n",
       "1  0.750391  0.742448  0.0  [12, 15, 9, 3, 1]\n",
       "2  0.690712  0.673177  0.0  [12, 15, 9, 3, 1]\n",
       "3  0.826259  0.823698  0.0  [12, 15, 9, 3, 1]\n",
       "4  0.776259  0.777995  0.0  [12, 15, 9, 3, 1]"
      ]
     },
     "execution_count": 19,
     "metadata": {},
     "output_type": "execute_result"
    }
   ],
   "source": [
    "with open(\"Dropout_w_Noise.json\", 'r') as f:\n",
    "    data = json.load(f)\n",
    "    \n",
    "df = pd.DataFrame()\n",
    "\n",
    "data_stats = {}\n",
    "for i,d in data.items():\n",
    "    ys = d[\"accs\"]\n",
    "    #ys[\"f1train\"] = d[\"f1s\"][\"train\"]\n",
    "    #ys[\"f1val\"] = d[\"f1s\"][\"val\"]\n",
    "    temp_df =  pd.DataFrame.from_dict(ys, orient = \"columns\")\n",
    "    temp_df[\"do\"] = d[\"dropout\"]\n",
    "    #print(d[\"nodes\"])\n",
    "    temp_df[\"shape\"] = str(d[\"nodes\"])\n",
    "    df = pd.concat([df, temp_df], ignore_index = True)\n",
    "    \n",
    "    data_stats[i] = {}\n",
    "    data_stats[i][\"do\"] = d[\"dropout\"]\n",
    "    data_stats[i][\"median_train\"] = np.median(d[\"accs\"][\"train\"])\n",
    "    data_stats[i][\"median_val\"] = np.median(d[\"accs\"][\"val\"])\n",
    "    data_stats[i][\"iqr_train\"] = np.quantile(d[\"accs\"][\"train\"], 0.75) - np.quantile(d[\"accs\"][\"train\"], 0.25)\n",
    "    data_stats[i][\"iqr_val\"] = np.quantile(d[\"accs\"][\"val\"], 0.75) - np.quantile(d[\"accs\"][\"val\"], 0.25)\n",
    "print(df.shape)\n",
    "df.head()\n",
    "    "
   ]
  },
  {
   "cell_type": "code",
   "execution_count": 20,
   "metadata": {},
   "outputs": [
    {
     "data": {
      "text/html": [
       "<div>\n",
       "<style scoped>\n",
       "    .dataframe tbody tr th:only-of-type {\n",
       "        vertical-align: middle;\n",
       "    }\n",
       "\n",
       "    .dataframe tbody tr th {\n",
       "        vertical-align: top;\n",
       "    }\n",
       "\n",
       "    .dataframe thead th {\n",
       "        text-align: right;\n",
       "    }\n",
       "</style>\n",
       "<table border=\"1\" class=\"dataframe\">\n",
       "  <thead>\n",
       "    <tr style=\"text-align: right;\">\n",
       "      <th></th>\n",
       "      <th>do</th>\n",
       "      <th>shape</th>\n",
       "      <th>variable</th>\n",
       "      <th>value</th>\n",
       "    </tr>\n",
       "  </thead>\n",
       "  <tbody>\n",
       "    <tr>\n",
       "      <th>0</th>\n",
       "      <td>0.0</td>\n",
       "      <td>[12, 15, 9, 3, 1]</td>\n",
       "      <td>train</td>\n",
       "      <td>0.758420</td>\n",
       "    </tr>\n",
       "    <tr>\n",
       "      <th>1</th>\n",
       "      <td>0.0</td>\n",
       "      <td>[12, 15, 9, 3, 1]</td>\n",
       "      <td>train</td>\n",
       "      <td>0.750391</td>\n",
       "    </tr>\n",
       "    <tr>\n",
       "      <th>2</th>\n",
       "      <td>0.0</td>\n",
       "      <td>[12, 15, 9, 3, 1]</td>\n",
       "      <td>train</td>\n",
       "      <td>0.690712</td>\n",
       "    </tr>\n",
       "    <tr>\n",
       "      <th>3</th>\n",
       "      <td>0.0</td>\n",
       "      <td>[12, 15, 9, 3, 1]</td>\n",
       "      <td>train</td>\n",
       "      <td>0.826259</td>\n",
       "    </tr>\n",
       "    <tr>\n",
       "      <th>4</th>\n",
       "      <td>0.0</td>\n",
       "      <td>[12, 15, 9, 3, 1]</td>\n",
       "      <td>train</td>\n",
       "      <td>0.776259</td>\n",
       "    </tr>\n",
       "  </tbody>\n",
       "</table>\n",
       "</div>"
      ],
      "text/plain": [
       "    do              shape variable     value\n",
       "0  0.0  [12, 15, 9, 3, 1]    train  0.758420\n",
       "1  0.0  [12, 15, 9, 3, 1]    train  0.750391\n",
       "2  0.0  [12, 15, 9, 3, 1]    train  0.690712\n",
       "3  0.0  [12, 15, 9, 3, 1]    train  0.826259\n",
       "4  0.0  [12, 15, 9, 3, 1]    train  0.776259"
      ]
     },
     "execution_count": 20,
     "metadata": {},
     "output_type": "execute_result"
    }
   ],
   "source": [
    "df = pd.melt(df,id_vars = [\"do\",\"shape\"], value_vars = [\"train\", \"val\"])\n",
    "df.head()\n"
   ]
  },
  {
   "cell_type": "code",
   "execution_count": 24,
   "metadata": {},
   "outputs": [
    {
     "data": {
      "text/plain": [
       "<matplotlib.axes._subplots.AxesSubplot at 0x7f82a6863110>"
      ]
     },
     "execution_count": 24,
     "metadata": {},
     "output_type": "execute_result"
    },
    {
     "data": {
      "image/png": "[encoded data removed]",
      "text/plain": [
       "<Figure size 648x216 with 1 Axes>"
      ]
     },
     "metadata": {
      "needs_background": "light"
     },
     "output_type": "display_data"
    }
   ],
   "source": [
    "plt.figure(figsize = (9, 3))\n",
    "sns.boxenplot(x = \"do\", y = \"value\", hue = \"shape\", data = df[df[\"variable\"] == \"train\"])"
   ]
  },
  {
   "cell_type": "code",
   "execution_count": 25,
   "metadata": {},
   "outputs": [
    {
     "data": {
      "text/plain": [
       "<matplotlib.axes._subplots.AxesSubplot at 0x7f82a7227910>"
      ]
     },
     "execution_count": 25,
     "metadata": {},
     "output_type": "execute_result"
    },
    {
     "data": {
      "image/png": "[encoded data removed]",
      "text/plain": [
       "<Figure size 648x216 with 1 Axes>"
      ]
     },
     "metadata": {
      "needs_background": "light"
     },
     "output_type": "display_data"
    }
   ],
   "source": [
    "plt.figure(figsize = (9, 3))\n",
    "sns.boxenplot(x = \"do\", y = \"value\", hue = \"shape\", data = df[df[\"variable\"] == \"val\"])"
   ]
  },
  {
   "cell_type": "code",
   "execution_count": 5,
   "metadata": {},
   "outputs": [
    {
     "data": {
      "text/html": [
       "<div>\n",
       "<style scoped>\n",
       "    .dataframe tbody tr th:only-of-type {\n",
       "        vertical-align: middle;\n",
       "    }\n",
       "\n",
       "    .dataframe tbody tr th {\n",
       "        vertical-align: top;\n",
       "    }\n",
       "\n",
       "    .dataframe thead th {\n",
       "        text-align: right;\n",
       "    }\n",
       "</style>\n",
       "<table border=\"1\" class=\"dataframe\">\n",
       "  <thead>\n",
       "    <tr style=\"text-align: right;\">\n",
       "      <th></th>\n",
       "      <th>do</th>\n",
       "      <th>median_train</th>\n",
       "      <th>median_val</th>\n",
       "      <th>iqr_train</th>\n",
       "      <th>iqr_val</th>\n",
       "    </tr>\n",
       "  </thead>\n",
       "  <tbody>\n",
       "    <tr>\n",
       "      <th>trial0(12, 15, 9, 3, 1)00</th>\n",
       "      <td>0.0</td>\n",
       "      <td>0.759028</td>\n",
       "      <td>0.751628</td>\n",
       "      <td>0.126877</td>\n",
       "      <td>0.131185</td>\n",
       "    </tr>\n",
       "    <tr>\n",
       "      <th>trial1(12, 15, 9, 3, 1)00</th>\n",
       "      <td>0.0</td>\n",
       "      <td>0.758507</td>\n",
       "      <td>0.751237</td>\n",
       "      <td>0.127680</td>\n",
       "      <td>0.128906</td>\n",
       "    </tr>\n",
       "    <tr>\n",
       "      <th>trial2(12, 15, 9, 3, 1)00</th>\n",
       "      <td>0.0</td>\n",
       "      <td>0.758507</td>\n",
       "      <td>0.751628</td>\n",
       "      <td>0.127724</td>\n",
       "      <td>0.134245</td>\n",
       "    </tr>\n",
       "    <tr>\n",
       "      <th>trial3(12, 15, 9, 3, 1)00</th>\n",
       "      <td>0.0</td>\n",
       "      <td>0.764714</td>\n",
       "      <td>0.755794</td>\n",
       "      <td>0.114410</td>\n",
       "      <td>0.118034</td>\n",
       "    </tr>\n",
       "    <tr>\n",
       "      <th>trial4(12, 15, 9, 3, 1)00</th>\n",
       "      <td>0.0</td>\n",
       "      <td>0.776910</td>\n",
       "      <td>0.768880</td>\n",
       "      <td>0.112522</td>\n",
       "      <td>0.119661</td>\n",
       "    </tr>\n",
       "    <tr>\n",
       "      <th>...</th>\n",
       "      <td>...</td>\n",
       "      <td>...</td>\n",
       "      <td>...</td>\n",
       "      <td>...</td>\n",
       "      <td>...</td>\n",
       "    </tr>\n",
       "    <tr>\n",
       "      <th>trial0(12, 9, 1)10</th>\n",
       "      <td>1.0</td>\n",
       "      <td>0.330729</td>\n",
       "      <td>0.336328</td>\n",
       "      <td>0.004818</td>\n",
       "      <td>0.007422</td>\n",
       "    </tr>\n",
       "    <tr>\n",
       "      <th>trial1(12, 9, 1)10</th>\n",
       "      <td>1.0</td>\n",
       "      <td>0.384614</td>\n",
       "      <td>0.376693</td>\n",
       "      <td>0.163672</td>\n",
       "      <td>0.133529</td>\n",
       "    </tr>\n",
       "    <tr>\n",
       "      <th>trial2(12, 9, 1)10</th>\n",
       "      <td>1.0</td>\n",
       "      <td>0.361155</td>\n",
       "      <td>0.361719</td>\n",
       "      <td>0.098177</td>\n",
       "      <td>0.077995</td>\n",
       "    </tr>\n",
       "    <tr>\n",
       "      <th>trial3(12, 9, 1)10</th>\n",
       "      <td>1.0</td>\n",
       "      <td>0.332769</td>\n",
       "      <td>0.339323</td>\n",
       "      <td>0.010970</td>\n",
       "      <td>0.012760</td>\n",
       "    </tr>\n",
       "    <tr>\n",
       "      <th>trial4(12, 9, 1)10</th>\n",
       "      <td>1.0</td>\n",
       "      <td>0.360807</td>\n",
       "      <td>0.360417</td>\n",
       "      <td>0.102507</td>\n",
       "      <td>0.081380</td>\n",
       "    </tr>\n",
       "  </tbody>\n",
       "</table>\n",
       "<p>165 rows × 5 columns</p>\n",
       "</div>"
      ],
      "text/plain": [
       "                            do  median_train  median_val  iqr_train   iqr_val\n",
       "trial0(12, 15, 9, 3, 1)00  0.0      0.759028    0.751628   0.126877  0.131185\n",
       "trial1(12, 15, 9, 3, 1)00  0.0      0.758507    0.751237   0.127680  0.128906\n",
       "trial2(12, 15, 9, 3, 1)00  0.0      0.758507    0.751628   0.127724  0.134245\n",
       "trial3(12, 15, 9, 3, 1)00  0.0      0.764714    0.755794   0.114410  0.118034\n",
       "trial4(12, 15, 9, 3, 1)00  0.0      0.776910    0.768880   0.112522  0.119661\n",
       "...                        ...           ...         ...        ...       ...\n",
       "trial0(12, 9, 1)10         1.0      0.330729    0.336328   0.004818  0.007422\n",
       "trial1(12, 9, 1)10         1.0      0.384614    0.376693   0.163672  0.133529\n",
       "trial2(12, 9, 1)10         1.0      0.361155    0.361719   0.098177  0.077995\n",
       "trial3(12, 9, 1)10         1.0      0.332769    0.339323   0.010970  0.012760\n",
       "trial4(12, 9, 1)10         1.0      0.360807    0.360417   0.102507  0.081380\n",
       "\n",
       "[165 rows x 5 columns]"
      ]
     },
     "execution_count": 5,
     "metadata": {},
     "output_type": "execute_result"
    }
   ],
   "source": [
    "sdf = pd.DataFrame.from_dict(data_stats, orient = \"index\")\n",
    "sdf"
   ]
  },
  {
   "cell_type": "code",
   "execution_count": 18,
   "metadata": {},
   "outputs": [
    {
     "data": {
      "image/png": "[encoded data removed]",
      "text/plain": [
       "<Figure size 126x108 with 1 Axes>"
      ]
     },
     "metadata": {
      "needs_background": "light"
     },
     "output_type": "display_data"
    }
   ],
   "source": [
    "med_df = sdf[[\"do\", \"median_train\", \"median_val\"]]\n",
    "med_df.columns = [\"do\", \"train\", \"val\"]\n",
    "med_df = pd.melt(med_df,id_vars = \"do\", value_vars = [\"train\", \"val\"])\n",
    "med_df[\"value\"] *= 100\n",
    "\n",
    "fig = plt.figure()\n",
    "fig.set_figheight(1.5)\n",
    "fig.set_figwidth(1.75)\n",
    "plt0 = sns.lineplot(x = \"do\", y =\"value\", data = med_df, hue = \"variable\", palette=sns.cubehelix_palette(2))\n",
    "handles, labels = plt0.get_legend_handles_labels()\n",
    "plt0.legend(handles[1:], labels[1:], edgecolor='black', fancybox=False, loc='lower left',\n",
    "           handlelength = 0.5, handletextpad = 0.5, columnspacing = 0.5)\n",
    "\n",
    "plt.ylabel(\"Median\\nAccuracy (%)\", labelpad = 0)\n",
    "plt.xlabel(\"Dropout Rate\", labelpad=0)\n",
    "plt.ylim([60, 80])\n",
    "\n",
    "plt0.tick_params(axis='both', which='major', pad=0)\n",
    "fig = plt0.get_figure()\n",
    "figname = plots + \"VAD_DO_medians.pdf\"\n",
    "fig.savefig(figname, dpi=300, bbox_inches='tight')\n",
    "#plt.show()"
   ]
  },
  {
   "cell_type": "code",
   "execution_count": 19,
   "metadata": {},
   "outputs": [
    {
     "data": {
      "image/png": "[encoded data removed]",
      "text/plain": [
       "<Figure size 126x108 with 1 Axes>"
      ]
     },
     "metadata": {
      "needs_background": "light"
     },
     "output_type": "display_data"
    }
   ],
   "source": [
    "iqr_df = sdf[[\"do\", \"iqr_train\", \"iqr_val\"]]\n",
    "iqr_df.columns = [\"do\", \"train\", \"val\"]\n",
    "iqr_df = pd.melt(iqr_df,id_vars = \"do\", value_vars = [\"train\", \"val\"])\n",
    "iqr_df[\"value\"] *= 100\n",
    "\n",
    "fig = plt.figure()\n",
    "fig.set_figheight(1.5)\n",
    "fig.set_figwidth(1.75)\n",
    "plt0 = sns.lineplot(x = \"do\", y =\"value\", data = iqr_df, hue = \"variable\", palette=sns.cubehelix_palette(2))\n",
    "handles, labels = plt0.get_legend_handles_labels()\n",
    "plt0.legend(handles[1:], labels[1:], loc = \"upper left\", ncol = 2, edgecolor='black', fancybox=False,\n",
    "           handlelength = 0.5, handletextpad = 0.5, columnspacing = 0.5)\n",
    "\n",
    "plt.ylabel(\"Inter-quartile\\nRange (%)\", labelpad = 0)\n",
    "plt.xlabel(\"Dropout Rate\", labelpad=0)\n",
    "plt.ylim([0,20])\n",
    "\n",
    "plt0.tick_params(axis='both', which='major', pad=0)\n",
    "fig = plt0.get_figure()\n",
    "figname = plots + \"VAD_DO_iqr.pdf\"\n",
    "fig.savefig(figname, dpi=300, bbox_inches='tight')\n",
    "#plt.show()"
   ]
  }
 ],
 "metadata": {
  "kernelspec": {
   "display_name": "Python 3",
   "language": "python",
   "name": "python3"
  },
  "language_info": {
   "codemirror_mode": {
    "name": "ipython",
    "version": 3
   },
   "file_extension": ".py",
   "mimetype": "text/x-python",
   "name": "python",
   "nbconvert_exporter": "python",
   "pygments_lexer": "ipython3",
   "version": "3.7.9"
  }
 },
 "nbformat": 4,
 "nbformat_minor": 4
}
