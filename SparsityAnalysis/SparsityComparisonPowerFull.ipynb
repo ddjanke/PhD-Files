{
 "cells": [
  {
   "cell_type": "markdown",
   "metadata": {},
   "source": [
    "# NN Shape Analysis - VAD"
   ]
  },
  {
   "cell_type": "code",
   "execution_count": 1,
   "metadata": {},
   "outputs": [],
   "source": [
    "import json\n",
    "import pandas as pd\n",
    "import numpy as np\n",
    "import seaborn as sns\n",
    "import matplotlib.pyplot as plt\n",
    "import matplotlib\n",
    "import matplotlib.patches as mpatches\n",
    "from mpl_toolkits.mplot3d import Axes3D\n",
    "import re\n",
    "\n",
    "from scipy import stats\n",
    "\n",
    "sns.set_style(rc={'figure.figsize':(3.25,1), 'font.family':\"Times New Roman\",\n",
    "                                  'font.size': 8, 'dpi': 300})\n",
    "\n",
    "plots = \"D:/Research/Spyder/plots/\"\n",
    "\n",
    "save_images = False"
   ]
  },
  {
   "cell_type": "code",
   "execution_count": 2,
   "metadata": {},
   "outputs": [
    {
     "name": "stdout",
     "output_type": "stream",
     "text": [
      "1000\n",
      "552\n",
      "[12, 12, 12, 12, 12, 1]_random_parallel800_49\n",
      "[12, 12, 12, 12, 12, 1]_random_parallel800_48\n",
      "[12, 12, 12, 12, 12, 1]_random_parallel800_47\n",
      "[12, 12, 12, 12, 12, 1]_random_parallel800_46\n",
      "[12, 12, 12, 12, 12, 1]_random_parallel800_45\n",
      "[12, 12, 12, 12, 12, 1]_random_parallel800_44\n",
      "[12, 12, 12, 12, 12, 1]_random_parallel800_43\n",
      "[12, 12, 12, 12, 12, 1]_random_parallel800_42\n",
      "[12, 12, 12, 12, 12, 1]_random_parallel800_41\n",
      "[12, 12, 12, 12, 12, 1]_random_parallel800_40\n",
      "[12, 12, 12, 12, 12, 1]_random_parallel800_39\n",
      "[12, 12, 12, 12, 12, 1]_random_parallel800_38\n",
      "[12, 12, 12, 12, 12, 1]_random_parallel800_37\n",
      "[12, 12, 12, 12, 12, 1]_random_parallel800_36\n",
      "[12, 12, 12, 12, 12, 1]_random_parallel800_35\n",
      "[12, 12, 12, 12, 12, 1]_random_parallel800_34\n",
      "[12, 12, 12, 12, 12, 1]_random_parallel800_33\n",
      "[12, 12, 12, 12, 12, 1]_random_parallel800_32\n",
      "[12, 12, 12, 12, 12, 1]_random_parallel800_31\n",
      "[12, 12, 12, 12, 12, 1]_random_parallel800_30\n",
      "[12, 12, 12, 12, 12, 1]_random_parallel800_29\n",
      "[12, 12, 12, 12, 12, 1]_random_parallel800_28\n",
      "[12, 12, 12, 12, 1]_random_parallel800_49\n",
      "[12, 12, 12, 12, 1]_random_parallel800_48\n",
      "[12, 12, 12, 12, 1]_random_parallel800_47\n",
      "[12, 12, 12, 12, 1]_random_parallel800_46\n",
      "[12, 12, 12, 12, 1]_random_parallel800_45\n",
      "[12, 12, 12, 12, 1]_random_parallel800_44\n",
      "[12, 12, 12, 12, 1]_random_parallel800_43\n",
      "[12, 12, 12, 12, 1]_random_parallel800_42\n",
      "[12, 12, 12, 12, 1]_random_parallel800_41\n",
      "[12, 12, 12, 12, 1]_random_parallel800_40\n",
      "[12, 12, 12, 12, 1]_random_parallel800_39\n",
      "[12, 12, 12, 12, 1]_random_parallel800_38\n",
      "[12, 12, 12, 12, 1]_random_parallel800_37\n",
      "[12, 12, 12, 12, 1]_random_parallel800_36\n",
      "[12, 12, 12, 12, 1]_random_parallel800_35\n",
      "[12, 12, 12, 12, 1]_random_parallel800_34\n",
      "[12, 12, 12, 12, 1]_random_parallel800_33\n",
      "[12, 12, 12, 12, 1]_random_parallel800_32\n",
      "[12, 12, 12, 12, 1]_random_parallel800_31\n",
      "[12, 12, 12, 12, 1]_random_parallel800_30\n",
      "[12, 12, 12, 12, 1]_random_parallel800_29\n",
      "[12, 12, 12, 12, 1]_random_parallel800_28\n",
      "[12, 12, 12, 12, 1]_random_parallel800_27\n",
      "[12, 12, 12, 12, 1]_random_parallel800_26\n",
      "[12, 20, 20, 20, 20, 1]_random_parallel800_49\n",
      "[12, 20, 20, 20, 20, 1]_random_parallel800_48\n",
      "[12, 20, 20, 20, 20, 1]_random_parallel800_47\n",
      "[12, 20, 20, 20, 20, 1]_random_parallel800_46\n",
      "[12, 20, 20, 20, 20, 1]_random_parallel800_45\n",
      "[12, 20, 20, 20, 20, 1]_random_parallel800_44\n",
      "[12, 20, 20, 20, 20, 1]_random_parallel800_43\n",
      "[12, 20, 20, 20, 20, 1]_random_parallel800_42\n",
      "[12, 20, 20, 20, 20, 1]_random_parallel800_41\n",
      "[12, 20, 20, 20, 20, 1]_random_parallel800_40\n",
      "[12, 20, 20, 20, 20, 1]_random_parallel800_39\n",
      "[12, 20, 20, 20, 20, 1]_random_parallel800_38\n",
      "[12, 20, 20, 20, 20, 1]_random_parallel800_37\n",
      "[12, 20, 20, 20, 20, 1]_random_parallel800_36\n",
      "[12, 20, 20, 20, 20, 1]_random_parallel800_35\n",
      "[12, 20, 20, 20, 20, 1]_random_parallel800_34\n",
      "[12, 20, 20, 20, 20, 1]_random_parallel800_33\n",
      "[12, 20, 20, 20, 20, 1]_random_parallel800_32\n",
      "[12, 20, 20, 20, 20, 1]_random_parallel800_31\n",
      "[12, 20, 20, 20, 20, 1]_random_parallel800_30\n",
      "[12, 20, 20, 20, 20, 1]_random_parallel800_29\n",
      "[12, 20, 20, 20, 20, 1]_random_parallel800_28\n",
      "[12, 20, 20, 20, 20, 1]_random_parallel800_27\n",
      "[12, 20, 20, 20, 20, 1]_random_parallel800_26\n",
      "[12, 20, 20, 20, 20, 1]_random_parallel800_25\n",
      "[12, 20, 20, 20, 20, 1]_random_parallel800_24\n",
      "[12, 20, 20, 20, 20, 1]_random_parallel800_23\n",
      "[12, 20, 20, 20, 20, 1]_random_parallel800_22\n",
      "[12, 20, 20, 20, 20, 1]_random_parallel800_21\n",
      "[12, 20, 20, 20, 20, 1]_random_parallel800_20\n",
      "[12, 20, 20, 20, 20, 1]_random_parallel800_19\n",
      "[12, 20, 20, 20, 20, 1]_random_parallel800_18\n",
      "[12, 20, 20, 20, 20, 1]_random_parallel800_17\n",
      "[12, 20, 20, 20, 20, 1]_random_parallel800_16\n",
      "[12, 20, 20, 20, 20, 1]_random_parallel800_15\n",
      "[12, 20, 20, 20, 20, 1]_random_parallel800_14\n",
      "[12, 20, 20, 20, 20, 1]_random_parallel800_13\n",
      "[12, 20, 20, 20, 20, 1]_random_parallel800_12\n",
      "[12, 20, 20, 20, 20, 1]_random_parallel800_11\n",
      "[12, 20, 20, 20, 20, 1]_random_parallel800_10\n",
      "[12, 20, 20, 20, 20, 1]_random_parallel800_9\n",
      "[12, 20, 20, 20, 20, 1]_random_parallel800_8\n",
      "[12, 20, 20, 20, 20, 1]_random_parallel800_7\n",
      "[12, 20, 20, 20, 20, 1]_random_parallel800_6\n",
      "[12, 20, 20, 20, 20, 1]_random_parallel800_5\n",
      "[12, 20, 20, 20, 20, 1]_random_parallel800_4\n",
      "[12, 20, 20, 20, 20, 1]_random_parallel800_3\n",
      "[12, 20, 20, 20, 20, 1]_random_parallel800_2\n",
      "[12, 20, 20, 20, 20, 1]_random_parallel800_1\n",
      "[12, 20, 20, 20, 20, 1]_random_parallel800_0\n",
      "[12, 20, 20, 20, 1]_random_parallel800_49\n",
      "[12, 20, 20, 20, 1]_random_parallel800_48\n",
      "[12, 20, 20, 20, 1]_random_parallel800_47\n",
      "[12, 20, 20, 20, 1]_random_parallel800_46\n",
      "[12, 20, 20, 20, 1]_random_parallel800_45\n",
      "[12, 20, 20, 20, 1]_random_parallel800_44\n",
      "[12, 20, 20, 20, 1]_random_parallel800_43\n",
      "[12, 20, 20, 20, 1]_random_parallel800_42\n",
      "[12, 20, 20, 20, 1]_random_parallel800_41\n",
      "[12, 20, 20, 20, 1]_random_parallel800_40\n",
      "[12, 20, 20, 20, 1]_random_parallel800_39\n",
      "[12, 20, 20, 20, 1]_random_parallel800_38\n",
      "[12, 20, 20, 20, 1]_random_parallel800_37\n",
      "[12, 20, 20, 20, 1]_random_parallel800_36\n",
      "[12, 20, 20, 20, 1]_random_parallel800_35\n",
      "[12, 20, 20, 20, 1]_random_parallel800_34\n",
      "[12, 20, 20, 20, 1]_random_parallel800_33\n",
      "[12, 20, 20, 20, 1]_random_parallel800_32\n",
      "[12, 20, 20, 20, 1]_random_parallel800_31\n",
      "[12, 20, 20, 20, 1]_random_parallel800_30\n",
      "[12, 20, 20, 20, 1]_random_parallel800_29\n",
      "[12, 20, 20, 20, 1]_random_parallel800_28\n",
      "[12, 20, 20, 20, 1]_random_parallel800_27\n",
      "[12, 20, 20, 20, 1]_random_parallel800_26\n",
      "[12, 20, 20, 20, 1]_random_parallel800_25\n",
      "[12, 20, 20, 20, 1]_random_parallel800_24\n",
      "[12, 20, 20, 20, 1]_random_parallel800_23\n",
      "[12, 20, 20, 20, 1]_random_parallel800_22\n",
      "[12, 20, 20, 20, 1]_random_parallel800_21\n",
      "[12, 20, 20, 20, 1]_random_parallel800_20\n",
      "[12, 20, 20, 20, 1]_random_parallel800_19\n",
      "[12, 20, 20, 20, 1]_random_parallel800_18\n",
      "[12, 20, 20, 20, 1]_random_parallel800_17\n",
      "[12, 20, 20, 20, 1]_random_parallel800_16\n",
      "[12, 20, 20, 20, 1]_random_parallel800_15\n",
      "[12, 20, 20, 20, 1]_random_parallel800_14\n",
      "[12, 20, 20, 20, 1]_random_parallel800_13\n",
      "[12, 20, 20, 20, 1]_random_parallel800_12\n",
      "[12, 20, 20, 20, 1]_random_parallel800_11\n",
      "[12, 20, 20, 20, 1]_random_parallel800_10\n",
      "[12, 20, 20, 20, 1]_random_parallel800_9\n",
      "[12, 20, 20, 20, 1]_random_parallel800_8\n",
      "[12, 20, 20, 20, 1]_random_parallel800_7\n",
      "[12, 20, 20, 20, 1]_random_parallel800_6\n",
      "[12, 20, 20, 20, 1]_random_parallel800_5\n",
      "[12, 20, 20, 20, 1]_random_parallel800_4\n",
      "[12, 20, 20, 20, 1]_random_parallel800_3\n",
      "[12, 20, 20, 20, 1]_random_parallel800_2\n",
      "[12, 20, 20, 20, 1]_random_parallel800_1\n",
      "[12, 20, 20, 20, 1]_random_parallel800_0\n",
      "[12, 30, 30, 30, 30, 1]_random_parallel800_49\n",
      "[12, 30, 30, 30, 30, 1]_random_parallel800_48\n",
      "[12, 30, 30, 30, 30, 1]_random_parallel800_47\n",
      "[12, 30, 30, 30, 30, 1]_random_parallel800_46\n",
      "[12, 30, 30, 30, 30, 1]_random_parallel800_45\n",
      "[12, 30, 30, 30, 30, 1]_random_parallel800_44\n",
      "[12, 30, 30, 30, 30, 1]_random_parallel800_43\n",
      "[12, 30, 30, 30, 30, 1]_random_parallel800_42\n",
      "[12, 30, 30, 30, 30, 1]_random_parallel800_41\n",
      "[12, 30, 30, 30, 30, 1]_random_parallel800_40\n",
      "[12, 30, 30, 30, 30, 1]_random_parallel800_39\n",
      "[12, 30, 30, 30, 30, 1]_random_parallel800_38\n",
      "[12, 30, 30, 30, 30, 1]_random_parallel800_37\n",
      "[12, 30, 30, 30, 30, 1]_random_parallel800_36\n",
      "[12, 30, 30, 30, 30, 1]_random_parallel800_35\n",
      "[12, 30, 30, 30, 30, 1]_random_parallel800_34\n",
      "[12, 30, 30, 30, 30, 1]_random_parallel800_33\n",
      "[12, 30, 30, 30, 30, 1]_random_parallel800_32\n",
      "[12, 30, 30, 30, 30, 1]_random_parallel800_31\n",
      "[12, 30, 30, 30, 30, 1]_random_parallel800_30\n",
      "[12, 30, 30, 30, 30, 1]_random_parallel800_29\n",
      "[12, 30, 30, 30, 30, 1]_random_parallel800_28\n",
      "[12, 30, 30, 30, 30, 1]_random_parallel800_27\n",
      "[12, 30, 30, 30, 30, 1]_random_parallel800_26\n",
      "[12, 30, 30, 30, 30, 1]_random_parallel800_25\n",
      "[12, 30, 30, 30, 30, 1]_random_parallel800_24\n",
      "[12, 30, 30, 30, 30, 1]_random_parallel800_23\n",
      "[12, 30, 30, 30, 30, 1]_random_parallel800_22\n",
      "[12, 30, 30, 30, 30, 1]_random_parallel800_21\n",
      "[12, 30, 30, 30, 30, 1]_random_parallel800_20\n",
      "[12, 30, 30, 30, 30, 1]_random_parallel800_19\n",
      "[12, 30, 30, 30, 30, 1]_random_parallel800_18\n",
      "[12, 30, 30, 30, 30, 1]_random_parallel800_17\n",
      "[12, 30, 30, 30, 30, 1]_random_parallel800_16\n",
      "[12, 30, 30, 30, 30, 1]_random_parallel800_15\n",
      "[12, 30, 30, 30, 30, 1]_random_parallel800_14\n",
      "[12, 30, 30, 30, 30, 1]_random_parallel800_13\n",
      "[12, 30, 30, 30, 30, 1]_random_parallel800_12\n",
      "[12, 30, 30, 30, 30, 1]_random_parallel800_11\n",
      "[12, 30, 30, 30, 30, 1]_random_parallel800_10\n",
      "[12, 30, 30, 30, 30, 1]_random_parallel800_9\n",
      "[12, 30, 30, 30, 30, 1]_random_parallel800_8\n"
     ]
    },
    {
     "name": "stdout",
     "output_type": "stream",
     "text": [
      "[12, 30, 30, 30, 30, 1]_random_parallel800_7\n",
      "[12, 30, 30, 30, 30, 1]_random_parallel800_6\n",
      "[12, 30, 30, 30, 30, 1]_random_parallel800_5\n",
      "[12, 30, 30, 30, 30, 1]_random_parallel800_4\n",
      "[12, 30, 30, 30, 30, 1]_random_parallel800_3\n",
      "[12, 30, 30, 30, 30, 1]_random_parallel800_2\n",
      "[12, 30, 30, 30, 30, 1]_random_parallel800_1\n",
      "[12, 30, 30, 30, 30, 1]_random_parallel800_0\n",
      "[12, 30, 30, 30, 1]_random_parallel800_49\n",
      "[12, 30, 30, 30, 1]_random_parallel800_48\n",
      "[12, 30, 30, 30, 1]_random_parallel800_47\n",
      "[12, 30, 30, 30, 1]_random_parallel800_46\n",
      "[12, 30, 30, 30, 1]_random_parallel800_45\n",
      "[12, 30, 30, 30, 1]_random_parallel800_44\n",
      "[12, 30, 30, 30, 1]_random_parallel800_43\n",
      "[12, 30, 30, 30, 1]_random_parallel800_42\n",
      "[12, 30, 30, 30, 1]_random_parallel800_41\n",
      "[12, 30, 30, 30, 1]_random_parallel800_40\n",
      "[12, 30, 30, 30, 1]_random_parallel800_39\n",
      "[12, 30, 30, 30, 1]_random_parallel800_38\n",
      "[12, 30, 30, 30, 1]_random_parallel800_37\n",
      "[12, 30, 30, 30, 1]_random_parallel800_36\n",
      "[12, 30, 30, 30, 1]_random_parallel800_35\n",
      "[12, 30, 30, 30, 1]_random_parallel800_34\n",
      "[12, 30, 30, 30, 1]_random_parallel800_33\n",
      "[12, 30, 30, 30, 1]_random_parallel800_32\n",
      "[12, 30, 30, 30, 1]_random_parallel800_31\n",
      "[12, 30, 30, 30, 1]_random_parallel800_30\n",
      "[12, 30, 30, 30, 1]_random_parallel800_29\n",
      "[12, 30, 30, 30, 1]_random_parallel800_28\n",
      "[12, 30, 30, 30, 1]_random_parallel800_27\n",
      "[12, 30, 30, 30, 1]_random_parallel800_26\n",
      "[12, 30, 30, 30, 1]_random_parallel800_25\n",
      "[12, 30, 30, 30, 1]_random_parallel800_24\n",
      "[12, 30, 30, 30, 1]_random_parallel800_23\n",
      "[12, 30, 30, 30, 1]_random_parallel800_22\n",
      "[12, 30, 30, 30, 1]_random_parallel800_21\n",
      "[12, 30, 30, 30, 1]_random_parallel800_20\n",
      "[12, 30, 30, 30, 1]_random_parallel800_19\n",
      "[12, 30, 30, 30, 1]_random_parallel800_18\n",
      "[12, 30, 30, 30, 1]_random_parallel800_17\n",
      "[12, 30, 30, 30, 1]_random_parallel800_16\n",
      "[12, 30, 30, 30, 1]_random_parallel800_15\n",
      "[12, 30, 30, 30, 1]_random_parallel800_14\n",
      "[12, 30, 30, 30, 1]_random_parallel800_13\n",
      "[12, 30, 30, 30, 1]_random_parallel800_12\n",
      "[12, 30, 30, 30, 1]_random_parallel800_11\n",
      "[12, 30, 30, 30, 1]_random_parallel800_10\n",
      "[12, 30, 30, 30, 1]_random_parallel800_9\n",
      "[12, 30, 30, 30, 1]_random_parallel800_8\n",
      "[12, 30, 30, 30, 1]_random_parallel800_7\n",
      "[12, 30, 30, 30, 1]_random_parallel800_6\n",
      "[12, 30, 30, 30, 1]_random_parallel800_5\n",
      "[12, 30, 30, 30, 1]_random_parallel800_4\n",
      "[12, 30, 30, 30, 1]_random_parallel800_3\n",
      "[12, 30, 30, 30, 1]_random_parallel800_2\n",
      "[12, 30, 30, 30, 1]_random_parallel800_1\n",
      "[12, 30, 30, 30, 1]_random_parallel800_0\n",
      "[12, 12, 12, 12, 12, 1]_random_parallel800_0\n",
      "[12, 12, 12, 12, 12, 1]_random_parallel800_1\n",
      "[12, 12, 12, 12, 12, 1]_random_parallel800_2\n",
      "[12, 12, 12, 12, 12, 1]_random_parallel800_3\n",
      "[12, 12, 12, 12, 12, 1]_random_parallel800_4\n",
      "[12, 12, 12, 12, 12, 1]_random_parallel800_5\n",
      "[12, 12, 12, 12, 12, 1]_random_parallel800_6\n",
      "[12, 12, 12, 12, 12, 1]_random_parallel800_7\n",
      "[12, 12, 12, 12, 12, 1]_random_parallel800_8\n",
      "[12, 12, 12, 12, 12, 1]_random_parallel800_9\n",
      "[12, 12, 12, 12, 12, 1]_random_parallel800_10\n",
      "[12, 12, 12, 12, 12, 1]_random_parallel800_11\n",
      "[12, 12, 12, 12, 12, 1]_random_parallel800_12\n",
      "[12, 12, 12, 12, 12, 1]_random_parallel800_13\n",
      "[12, 12, 12, 12, 12, 1]_random_parallel800_14\n",
      "[12, 12, 12, 12, 12, 1]_random_parallel800_15\n",
      "[12, 12, 12, 12, 12, 1]_random_parallel800_16\n",
      "[12, 12, 12, 12, 12, 1]_random_parallel800_17\n",
      "[12, 12, 12, 12, 12, 1]_random_parallel800_18\n",
      "[12, 12, 12, 12, 12, 1]_random_parallel800_19\n",
      "[12, 12, 12, 12, 12, 1]_random_parallel800_20\n",
      "[12, 12, 12, 12, 12, 1]_random_parallel800_21\n",
      "[12, 12, 12, 12, 12, 1]_random_parallel800_22\n",
      "[12, 12, 12, 12, 12, 1]_random_parallel800_23\n",
      "[12, 12, 12, 12, 12, 1]_random_parallel800_24\n",
      "[12, 12, 12, 12, 12, 1]_random_parallel800_25\n",
      "[12, 12, 12, 12, 12, 1]_random_parallel800_26\n",
      "[12, 12, 12, 12, 12, 1]_random_parallel800_27\n",
      "[12, 12, 12, 12, 1]_random_parallel800_0\n",
      "[12, 12, 12, 12, 1]_random_parallel800_1\n",
      "[12, 12, 12, 12, 1]_random_parallel800_2\n",
      "[12, 12, 12, 12, 1]_random_parallel800_3\n",
      "[12, 12, 12, 12, 1]_random_parallel800_4\n",
      "[12, 12, 12, 12, 1]_random_parallel800_5\n",
      "[12, 12, 12, 12, 1]_random_parallel800_6\n",
      "[12, 12, 12, 12, 1]_random_parallel800_7\n",
      "[12, 12, 12, 12, 1]_random_parallel800_8\n",
      "[12, 12, 12, 12, 1]_random_parallel800_9\n",
      "[12, 12, 12, 12, 1]_random_parallel800_10\n",
      "[12, 12, 12, 12, 1]_random_parallel800_11\n",
      "[12, 12, 12, 12, 1]_random_parallel800_12\n",
      "[12, 12, 12, 12, 1]_random_parallel800_13\n",
      "[12, 12, 12, 12, 1]_random_parallel800_14\n",
      "[12, 12, 12, 12, 1]_random_parallel800_15\n",
      "[12, 12, 12, 12, 1]_random_parallel800_16\n",
      "[12, 12, 12, 12, 1]_random_parallel800_17\n",
      "[12, 12, 12, 12, 1]_random_parallel800_18\n",
      "[12, 12, 12, 12, 1]_random_parallel800_19\n",
      "[12, 12, 12, 12, 1]_random_parallel800_20\n",
      "[12, 12, 12, 12, 1]_random_parallel800_21\n",
      "[12, 12, 12, 12, 1]_random_parallel800_22\n",
      "[12, 12, 12, 12, 1]_random_parallel800_23\n",
      "[12, 12, 12, 12, 1]_random_parallel800_24\n",
      "[12, 12, 12, 12, 1]_random_parallel800_25\n"
     ]
    }
   ],
   "source": [
    "dataset = \"power\"\n",
    "size = 30\n",
    "activation = \"CompTanh_{}full\".format(size)\n",
    "\n",
    "data = {}\n",
    "for HL in [3,4]:\n",
    "    for method in [\"all\", \"allsoft\"]:\n",
    "        for computer in [0,1]:\n",
    "            try:\n",
    "                with open(\"SparsityTest_power{}_HL{}_{}_{}.json\".format(activation, HL, method, computer), 'r') as nsa:\n",
    "                    data.update(json.load(nsa))\n",
    "            except: pass\n",
    "\n",
    "\n",
    "activation = \"CompTanh_12full_gradual\"\n",
    "\n",
    "with open(\"SparsityTest_power{}0.json\".format(activation), 'r') as nsa:\n",
    "    data2 = json.load(nsa)\n",
    "    print(len(data))\n",
    "    data.update(data2)\n",
    "with open(\"SparsityTest_power{}1.json\".format(activation), 'r') as nsa:\n",
    "    data2 = json.load(nsa)\n",
    "    print(len(data2))\n",
    "    data.update(data2)\n",
    "\n",
    "        \n",
    "acc_lim = [70, 85]\n",
    "iqr_lim = [2, 15]\n",
    "\n",
    "def str_to_list(in_string):\n",
    "    temp = in_string[1:-1].split(',')\n",
    "    return [int(s) for s in temp]\n",
    "\n",
    "score_num = 0\n",
    "data = {t:d for t,d in data.items() if type(d) is dict}\n",
    "for t,d in data.items():\n",
    "    \n",
    "    d[\"shape\"] = str_to_list(d[\"shape\"])\n",
    "    d[\"hidden\"] = len(d[\"shape\"]) - 2\n",
    "    method_temp = t.split('_')[1:3]\n",
    "    if len(method_temp[1]) < len(method_temp[0]):\n",
    "        if \"soft\" in method_temp[0]:\n",
    "            method_temp.append(method_temp[0][-1])\n",
    "            method_temp[0] = \"allsoft\"\n",
    "        else:\n",
    "            method_temp[1] = '0' + method_temp[1]\n",
    "    \n",
    "    d[\"method\"] = \"_\".join(method_temp)\n",
    "    if \"prune\" in d[\"method\"] and d[\"method\"][-4] != '1': d[\"method\"] = d[\"method\"][:-3] + '0' + d[\"method\"][-3:]\n",
    "    if \"random\" in d[\"method\"]: print(t)\n",
    "    #d[\"method\"] = t.split(']')[1]\n",
    "    #d[\"method\"] = d[\"method\"][:re.search(r\"\\d\",d[\"method\"]).start()]\n",
    "    \n",
    "    d[\"idealacc\"] *= 100\n",
    "    acc = d[\"accs\"]\n",
    "    scores = (list(acc.values()))\n",
    "    scores = np.vstack([np.array(s) for s in scores])[score_num]\n",
    "    d[\"medians\"] = np.median(scores) * 100\n",
    "    d[\"iqr\"] = (np.quantile(scores, 0.75) - np.quantile(scores, 0.25)) * 100\n",
    "    #for i in range(d[\"hidden\"]):\n",
    "    #    d[\"shrink\"] = d.get(\"shrink\", 1) * (d[\"shape\"][i] / d[\"shape\"][i + 1]) ** (d[\"hidden\"] + 1 - i)\n",
    "    #d['loc'], d['spread'] = stats.gumbel_r.fit(scores)\n",
    "    d[\"u75\"] = scores.max() - np.quantile(scores, 0.25)\n",
    "    d[\"synapses\"] = sum([n * d[\"shape\"][i + 1] for i,n in enumerate(d[\"shape\"][:-1])])\n",
    "    #print(d)\n",
    "    #input()"
   ]
  },
  {
   "cell_type": "code",
   "execution_count": 3,
   "metadata": {},
   "outputs": [
    {
     "data": {
      "text/plain": [
       "method              hidden\n",
       "all_010             3          50\n",
       "                    4          50\n",
       "all_020             3          50\n",
       "                    4          50\n",
       "allsoft_10_1        3          50\n",
       "                    4          50\n",
       "allsoft_10_2        3          50\n",
       "                    4          50\n",
       "allsoft_10_4        3          50\n",
       "                    4          50\n",
       "allsoft_10_8        3          50\n",
       "                    4          50\n",
       "allsoft_20_1        3          50\n",
       "                    4          50\n",
       "allsoft_20_2        3          50\n",
       "                    4          50\n",
       "allsoft_20_4        3          50\n",
       "                    4          50\n",
       "allsoft_20_8        3          50\n",
       "                    4          50\n",
       "prune_backward0400  3          50\n",
       "                    4          50\n",
       "prune_backward0800  3          50\n",
       "                    4          50\n",
       "prune_backward1600  3          50\n",
       "                    4          50\n",
       "prune_forward0400   3          50\n",
       "                    4          50\n",
       "prune_forward0800   3          50\n",
       "                    4          50\n",
       "prune_forward1600   3          50\n",
       "                    4          50\n",
       "prune_parallel0400  3          50\n",
       "                    4          50\n",
       "prune_parallel0800  3          50\n",
       "                    4          50\n",
       "prune_parallel1600  3          50\n",
       "                    4          50\n",
       "random_parallel800  3         150\n",
       "                    4         150\n",
       "Name: hidden, dtype: int64"
      ]
     },
     "execution_count": 3,
     "metadata": {},
     "output_type": "execute_result"
    }
   ],
   "source": [
    "pd.DataFrame.from_dict(data,orient=\"index\").groupby(\"method\").hidden.value_counts()"
   ]
  },
  {
   "cell_type": "code",
   "execution_count": 4,
   "metadata": {},
   "outputs": [],
   "source": [
    "y_label = {\"idealacc\": \"Ideal\\nAccuracies (%)\",\n",
    "           \"medians\": \"Median\\nAccuracies (%)\",\n",
    "           \"iqr\": \"Inter-quartile\\nRange (%)\",\n",
    "          \"epochs\": \"Training Epochs\"}\n",
    "\n",
    "y_lim = {\"idealacc\": (60,100),\n",
    "           \"medians\": (60,100),\n",
    "           \"iqr\": (0,20),\n",
    "          \"epochs\": (0,10000)}\n",
    "\n",
    "\n",
    "\n",
    "def plot_fig(df, y_name, filename, size, legend_labels=None, y_limits=None, x_on=True, save = False):\n",
    "    fig = plt.figure(figsize=size)\n",
    "\n",
    "    plt0 = sns.boxenplot(x = \"hidden\", y = y_name, data = df, hue=\"method\", palette=sns.color_palette(\"Paired\"), linewidth=0.5)\n",
    "    for c in plt0.axes.collections:\n",
    "        c._sizes = np.array([12])\n",
    "    for l in plt0.lines:\n",
    "        l.set_linewidth(2)\n",
    "        l._aplha = 0.8\n",
    "    plt.ylabel(y_label[y_name], labelpad = 0, fontsize=12)\n",
    "    if x_on:\n",
    "        plt.xlabel(\"No. Hidden Layers\", labelpad=0, fontsize=12)\n",
    "    else:\n",
    "        plt0.axes.xaxis.set_visible(False)\n",
    "    if y_limits is None:\n",
    "        plt.ylim(y_lim[y_name])\n",
    "    else:\n",
    "        plt.ylim(y_limits)\n",
    "    \n",
    "    if legend_labels:\n",
    "        if type(legend_labels) is list:\n",
    "            L = plt.legend(bbox_to_anchor=(1.05, 1), loc='upper left', borderaxespad=0.)\n",
    "            for i,l in enumerate(L.get_texts()):\n",
    "                l.set_text(legend_labels[i])\n",
    "        else:\n",
    "            plt.legend(bbox_to_anchor=(0., 1.02, 1., .102), loc='lower left',\n",
    "                       ncol=3, mode=\"expand\", borderaxespad=0.)\n",
    "            \n",
    "    else:\n",
    "        L = plt.legend()\n",
    "        L.set_visible(False)\n",
    "\n",
    "    plt0.tick_params(axis='both', which='major', pad=0)\n",
    "    fig = plt0.get_figure()\n",
    "    figname = plots + filename + y_name + \".pdf\"\n",
    "    if save:\n",
    "        fig.savefig(figname, dpi=300, bbox_inches='tight')"
   ]
  },
  {
   "cell_type": "markdown",
   "metadata": {},
   "source": [
    "# Gradual Pruning"
   ]
  },
  {
   "cell_type": "code",
   "execution_count": 5,
   "metadata": {},
   "outputs": [],
   "source": [
    "def rename_methods(method):\n",
    "    if method.startswith(\"random\"): return \"random\"\n",
    "    method = method[6:]\n",
    "    return method\n",
    "    \n",
    "data2 = {t:d for t,d in data.items() \\\n",
    "        if (\"prune\" in d[\"method\"] or (\"random\" in d[\"method\"] and d[\"shape\"][1] == size)) and d[\"hidden\"] > 2}"
   ]
  },
  {
   "cell_type": "code",
   "execution_count": 6,
   "metadata": {
    "scrolled": true
   },
   "outputs": [
    {
     "name": "stdout",
     "output_type": "stream",
     "text": [
      "4    500\n",
      "3    500\n",
      "Name: hidden, dtype: int64\n"
     ]
    }
   ],
   "source": [
    "df = pd.DataFrame.from_dict(data2, orient = \"index\")\n",
    "df[\"method\"] = df[\"method\"].apply(rename_methods)\n",
    "df.sort_values([\"method\"], axis = 0, inplace = True)\n",
    "#print(df.head())\n",
    "print(df[\"hidden\"].value_counts())\n",
    "if \"computer\" in df.columns:\n",
    "    df.drop([\"computer\"], axis = 1, inplace = True)\n",
    "    df.dropna(how = \"all\", inplace = True)\n",
    "#df.head()"
   ]
  },
  {
   "cell_type": "code",
   "execution_count": 7,
   "metadata": {
    "scrolled": true
   },
   "outputs": [
    {
     "data": {
      "image/png": "[encoded data removed]",
      "text/plain": [
       "<Figure size 432x144 with 1 Axes>"
      ]
     },
     "metadata": {
      "needs_background": "light"
     },
     "output_type": "display_data"
    }
   ],
   "source": [
    "file_header = dataset + \"_sparseGradual_\"\n",
    "plot_fig(df, \"idealacc\", file_header, size=(6,2), legend_labels = True, x_on=False, save = save_images)\n"
   ]
  },
  {
   "cell_type": "code",
   "execution_count": 8,
   "metadata": {
    "scrolled": true
   },
   "outputs": [
    {
     "data": {
      "image/png": "[encoded data removed]",
      "text/plain": [
       "<Figure size 432x144 with 1 Axes>"
      ]
     },
     "metadata": {
      "needs_background": "light"
     },
     "output_type": "display_data"
    }
   ],
   "source": [
    "plot_fig(df, \"medians\", file_header, size=(6,2), legend_labels = False, x_on=False, save = save_images)\n"
   ]
  },
  {
   "cell_type": "code",
   "execution_count": 9,
   "metadata": {
    "scrolled": true
   },
   "outputs": [
    {
     "data": {
      "image/png": "[encoded data removed]",
      "text/plain": [
       "<Figure size 432x144 with 1 Axes>"
      ]
     },
     "metadata": {
      "needs_background": "light"
     },
     "output_type": "display_data"
    }
   ],
   "source": [
    "plot_fig(df, \"iqr\", file_header, size=(6,2), legend_labels = False, x_on=False, save = save_images)"
   ]
  },
  {
   "cell_type": "code",
   "execution_count": 10,
   "metadata": {
    "scrolled": true
   },
   "outputs": [
    {
     "data": {
      "image/png": "[encoded data removed]",
      "text/plain": [
       "<Figure size 432x144 with 1 Axes>"
      ]
     },
     "metadata": {
      "needs_background": "light"
     },
     "output_type": "display_data"
    }
   ],
   "source": [
    "plot_fig(df, \"epochs\", file_header, size=(6,2), legend_labels = False, x_on=True, save = save_images)"
   ]
  },
  {
   "cell_type": "markdown",
   "metadata": {},
   "source": [
    "# Repeated Full Pruning"
   ]
  },
  {
   "cell_type": "code",
   "execution_count": 11,
   "metadata": {},
   "outputs": [
    {
     "name": "stdout",
     "output_type": "stream",
     "text": [
      "4    650\n",
      "3    650\n",
      "Name: hidden, dtype: int64\n"
     ]
    }
   ],
   "source": [
    "if '20full' not in activation and '30full' not in activation:\n",
    "    data2 = {t:d for t,d in data.items() if (d[\"method\"].startswith(\"all\") or \"random\" in d[\"method\"])}\n",
    "else:\n",
    "    data2 = {t:d for t,d in data.items() if d[\"method\"].startswith(\"all\")}\n",
    "\n",
    "df = pd.DataFrame.from_dict(data2, orient = \"index\")\n",
    "df.loc[df[\"method\"].str.startswith(\"random\"),\"method\"] = \"random\"\n",
    "df.sort_values([\"method\"], axis = 0, inplace = True)\n",
    "#print(df.head())\n",
    "print(df[\"hidden\"].value_counts())\n",
    "if \"computer\" in df.columns:\n",
    "    df.drop([\"computer\"], axis = 1, inplace = True)\n",
    "    df.dropna(how = \"all\", inplace = True)\n",
    "#df.head()"
   ]
  },
  {
   "cell_type": "code",
   "execution_count": 12,
   "metadata": {
    "scrolled": true
   },
   "outputs": [
    {
     "data": {
      "image/png": "[encoded data removed]",
      "text/plain": [
       "<Figure size 432x144 with 1 Axes>"
      ]
     },
     "metadata": {
      "needs_background": "light"
     },
     "output_type": "display_data"
    }
   ],
   "source": [
    "file_header = dataset + \"_sparseAll_\"\n",
    "\n",
    "plot_fig(df, \"idealacc\", file_header, size=(6,2), legend_labels = True, x_on=False, save = save_images)"
   ]
  },
  {
   "cell_type": "code",
   "execution_count": 13,
   "metadata": {
    "scrolled": true
   },
   "outputs": [
    {
     "data": {
      "image/png": "[encoded data removed]",
      "text/plain": [
       "<Figure size 432x144 with 1 Axes>"
      ]
     },
     "metadata": {
      "needs_background": "light"
     },
     "output_type": "display_data"
    }
   ],
   "source": [
    "plot_fig(df, \"medians\", file_header, size=(6,2), legend_labels = False, x_on=False, save = save_images)"
   ]
  },
  {
   "cell_type": "code",
   "execution_count": 14,
   "metadata": {
    "scrolled": true
   },
   "outputs": [
    {
     "data": {
      "image/png": "[encoded data removed]",
      "text/plain": [
       "<Figure size 432x144 with 1 Axes>"
      ]
     },
     "metadata": {
      "needs_background": "light"
     },
     "output_type": "display_data"
    }
   ],
   "source": [
    "plot_fig(df, \"iqr\", file_header, size=(6,2), legend_labels = False, x_on=False, save = save_images)"
   ]
  },
  {
   "cell_type": "code",
   "execution_count": 15,
   "metadata": {
    "scrolled": true
   },
   "outputs": [
    {
     "data": {
      "image/png": "[encoded data removed]",
      "text/plain": [
       "<Figure size 432x144 with 1 Axes>"
      ]
     },
     "metadata": {
      "needs_background": "light"
     },
     "output_type": "display_data"
    }
   ],
   "source": [
    "plot_fig(df, \"epochs\", file_header, size=(6,2), legend_labels = False, x_on=True, save = save_images)"
   ]
  },
  {
   "cell_type": "code",
   "execution_count": null,
   "metadata": {},
   "outputs": [],
   "source": []
  },
  {
   "cell_type": "code",
   "execution_count": null,
   "metadata": {},
   "outputs": [],
   "source": []
  }
 ],
 "metadata": {
  "kernelspec": {
   "display_name": "Python 3",
   "language": "python",
   "name": "python3"
  },
  "language_info": {
   "codemirror_mode": {
    "name": "ipython",
    "version": 3
   },
   "file_extension": ".py",
   "mimetype": "text/x-python",
   "name": "python",
   "nbconvert_exporter": "python",
   "pygments_lexer": "ipython3",
   "version": "3.7.9"
  }
 },
 "nbformat": 4,
 "nbformat_minor": 4
}
