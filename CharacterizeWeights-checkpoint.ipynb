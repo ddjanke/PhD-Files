{
 "cells": [
  {
   "cell_type": "code",
   "execution_count": 1,
   "metadata": {},
   "outputs": [],
   "source": [
    "import pandas as pd\n",
    "import numpy as np\n",
    "import ergence as erg\n",
    "import ANN_Model as ann\n",
    "import torch\n",
    "import seaborn as sns\n",
    "import matplotlib.pyplot as plt\n",
    "import copy"
   ]
  },
  {
   "cell_type": "code",
   "execution_count": 2,
   "metadata": {},
   "outputs": [
    {
     "name": "stdout",
     "output_type": "stream",
     "text": [
      "/home/djanke3/Documents/Spyder/Results_Torch/Tanh/Small0/\n"
     ]
    },
    {
     "data": {
      "text/plain": [
       "<All keys matched successfully>"
      ]
     },
     "execution_count": 2,
     "metadata": {},
     "output_type": "execute_result"
    }
   ],
   "source": [
    "folder = 'Tanh'\n",
    "net_size = 'Small'\n",
    "num = 0\n",
    "size = 500\n",
    "\n",
    "numfil = 6\n",
    "directory = \"/home/djanke3/Documents/Spyder/Results_Torch/{}/{}{}/\".format(folder,net_size,num)\n",
    "\n",
    "print(directory)\n",
    "\n",
    "if net_size == 'Small':\n",
    "    nodes = (numfil, numfil, 1)\n",
    "if net_size == 'Med':\n",
    "    nodes = (numfil, numfil*2, numfil, 1)\n",
    "if net_size == 'Large':\n",
    "    nodes = (numfil, numfil*3, numfil*2, numfil, 1)\n",
    "\n",
    "clf = ann.ANNModelTorch(nodes,device = 'cpu')\n",
    "clf.load_state_dict(torch.load(directory+'TrainedVoltages{}.pt'.format(net_size)))"
   ]
  },
  {
   "cell_type": "code",
   "execution_count": 3,
   "metadata": {
    "scrolled": false
   },
   "outputs": [
    {
     "data": {
      "image/png": "[encoded data removed]",
      "text/plain": [
       "<Figure size 360x360 with 1 Axes>"
      ]
     },
     "metadata": {
      "needs_background": "light"
     },
     "output_type": "display_data"
    },
    {
     "name": "stdout",
     "output_type": "stream",
     "text": [
      "count    42.000000\n",
      "mean     -1.384172\n",
      "std       4.440190\n",
      "min      -9.719290\n",
      "25%      -4.982205\n",
      "50%      -0.049843\n",
      "75%       1.458471\n",
      "max       5.893161\n",
      "Name: val, dtype: float64 \n",
      "\n",
      "0   -0.226304\n",
      "1   -1.807215\n",
      "2   -1.064264\n",
      "3   -4.682904\n",
      "4    0.439608\n",
      "5   -0.963952\n",
      "dtype: float32 \n",
      "\n",
      " 0    -1.584126\n",
      "1   -12.650504\n",
      "2    -7.449850\n",
      "3   -32.780331\n",
      "4     3.077256\n",
      "5    -6.747667\n",
      "dtype: float32 \n",
      "\n",
      "4.600196104430631\n"
     ]
    },
    {
     "data": {
      "image/png": "[encoded data removed]",
      "text/plain": [
       "<Figure size 360x360 with 1 Axes>"
      ]
     },
     "metadata": {
      "needs_background": "light"
     },
     "output_type": "display_data"
    },
    {
     "name": "stdout",
     "output_type": "stream",
     "text": [
      "count    7.000000\n",
      "mean     2.049085\n",
      "std      5.078379\n",
      "min     -3.988812\n",
      "25%     -3.036264\n",
      "50%      5.320876\n",
      "75%      6.276197\n",
      "max      6.531665\n",
      "Name: val, dtype: float64 \n",
      "\n",
      "0    2.049085\n",
      "dtype: float32 \n",
      "\n",
      " 0    14.343596\n",
      "dtype: float32 \n",
      "\n",
      "5.1287824117522876\n"
     ]
    }
   ],
   "source": [
    "weights = []\n",
    "pd_weights = []\n",
    "for module in clf.model:\n",
    "    sd = module.state_dict()\n",
    "    if 'weight' in sd:\n",
    "        w = sd['weight'].numpy()\n",
    "        b = sd['bias'].numpy()\n",
    "        layer = np.hstack([b[:,None],w])\n",
    "        weights += [10*(1/1*np.tanh(layer*2)-0.5*0)]\n",
    "        #weights += [10*np.tanh(w*2)-5]\n",
    "        pd_weights += [pd.DataFrame(weights[-1].T)]\n",
    "        \n",
    "for pdw in pd_weights:\n",
    "    pdwa = pdw.abs()\n",
    "    if pdw.shape[1] > 1:\n",
    "        sample = pdw.stack().reset_index()\n",
    "        sample.columns = ['input','row','val']\n",
    "    else:\n",
    "        sample = pdw.reset_index()\n",
    "        sample['row'] = 0\n",
    "        sample.columns = ['input','val','row']\n",
    "    energy = ((pdw**2).mean()**(1/2)).reset_index()\n",
    "    energy.columns = ['row','val']\n",
    "    sns.catplot(x = 'row',y = 'val', data = sample, kind = 'swarm', color = 'gray')\n",
    "    sns.scatterplot(x = 'row',y = 'val',data = energy, color = 'red')\n",
    "    plt.ylim([-10,10])\n",
    "    plt.show()\n",
    "    print(sample['val'].describe(),'\\n')\n",
    "    print(pdw.mean(),'\\n\\n', pdw.sum(),'\\n')\n",
    "    print((sample['val']**2).mean()**(1/2))\n"
   ]
  },
  {
   "cell_type": "code",
   "execution_count": null,
   "metadata": {},
   "outputs": [],
   "source": []
  },
  {
   "cell_type": "code",
   "execution_count": 4,
   "metadata": {},
   "outputs": [
    {
     "name": "stdout",
     "output_type": "stream",
     "text": [
      "1\n"
     ]
    },
    {
     "data": {
      "image/png": "[encoded data removed]",
      "text/plain": [
       "<Figure size 432x288 with 1 Axes>"
      ]
     },
     "metadata": {
      "needs_background": "light"
     },
     "output_type": "display_data"
    }
   ],
   "source": [
    "start = 1\n",
    "print(start)\n",
    "res_feat = pd.read_csv(directory + 'Result_Weights_{}.csv'.format(net_size),header = None)[2]*100\n",
    "feat_orig_acc = res_feat.loc[0]\n",
    "acc05 = res_feat.loc[start:start+size].reset_index(drop=True).to_frame()\n",
    "acc10 = res_feat.loc[start+size:start+2*size].reset_index(drop=True).to_frame()\n",
    "acc15 = res_feat.loc[start+2*size:start+3*size].reset_index(drop=True).to_frame()\n",
    "w0acc20 = res_feat.loc[start+3*size:start+4*size].reset_index(drop=True).to_frame()\n",
    "\n",
    "acc05['percent'] = '5%'\n",
    "acc10['percent'] = '10%'\n",
    "acc15['percent'] = '15%'\n",
    "w0acc20['percent'] = '20%'\n",
    "all_acc = pd.concat([acc05,acc10,acc15,w0acc20],axis = 0)\n",
    "all_acc.columns = ['accuracy','percentage']\n",
    "\n",
    "sns.boxenplot(x = 'percentage',y = 'accuracy', data = all_acc, color = 'lightgray')\n",
    "plt.rcParams[\"font.family\"] = \"Times New Roman\"\n",
    "plt.hlines(y = feat_orig_acc, xmin = -0.5, xmax = 3.5, linewidth = 1.5, linestyles = 'solid')\n",
    "plt.ylim([55,95])\n",
    "plt.show()"
   ]
  },
  {
   "cell_type": "code",
   "execution_count": 5,
   "metadata": {},
   "outputs": [
    {
     "name": "stderr",
     "output_type": "stream",
     "text": [
      "findfont: Font family ['Times New Roman'] not found. Falling back to DejaVu Sans.\n"
     ]
    },
    {
     "data": {
      "image/png": "[encoded data removed]",
      "text/plain": [
       "<Figure size 432x288 with 1 Axes>"
      ]
     },
     "metadata": {
      "needs_background": "light"
     },
     "output_type": "display_data"
    }
   ],
   "source": [
    "start += 4*size\n",
    "acc05 = res_feat.loc[start:start+size].reset_index(drop=True).to_frame()\n",
    "acc10 = res_feat.loc[start+size:start+2*size].reset_index(drop=True).to_frame()\n",
    "acc15 = res_feat.loc[start+2*size:start+3*size].reset_index(drop=True).to_frame()\n",
    "w1acc20 = res_feat.loc[start+3*size:start+4*size].reset_index(drop=True).to_frame()\n",
    "\n",
    "acc05['percent'] = '5%'\n",
    "acc10['percent'] = '10%'\n",
    "acc15['percent'] = '15%'\n",
    "w1acc20['percent'] = '20%'\n",
    "all_acc = pd.concat([acc05,acc10,acc15,w1acc20],axis = 0)\n",
    "all_acc.columns = ['accuracy','percentage']\n",
    "\n",
    "sns.boxenplot(x = 'percentage',y = 'accuracy', data = all_acc, color = 'lightgray')\n",
    "plt.rcParams[\"font.family\"] = \"Times New Roman\"\n",
    "plt.hlines(y = feat_orig_acc, xmin = -0.5, xmax = 3.5, linewidth = 1.5, linestyles = 'solid')\n",
    "plt.ylim([55,95])\n",
    "plt.show()"
   ]
  },
  {
   "cell_type": "code",
   "execution_count": 6,
   "metadata": {},
   "outputs": [
    {
     "data": {
      "image/png": "[encoded data removed]",
      "text/plain": [
       "<Figure size 432x288 with 1 Axes>"
      ]
     },
     "metadata": {
      "needs_background": "light"
     },
     "output_type": "display_data"
    }
   ],
   "source": [
    "start += 4*size\n",
    "acc05 = res_feat.loc[start:start+size].reset_index(drop=True).to_frame()\n",
    "acc10 = res_feat.loc[start+size:start+2*size].reset_index(drop=True).to_frame()\n",
    "acc15 = res_feat.loc[start+2*size:start+3*size].reset_index(drop=True).to_frame()\n",
    "w2acc20 = res_feat.loc[start+3*size:start+4*size].reset_index(drop=True).to_frame()\n",
    "all_acc = pd.concat([acc05,acc10,acc15,w2acc20],axis = 1,ignore_index = True)\n",
    "all_acc.columns = ['5%','10%','15%','20%']\n",
    "\n",
    "acc05['percent'] = '5%'\n",
    "acc10['percent'] = '10%'\n",
    "acc15['percent'] = '15%'\n",
    "w2acc20['percent'] = '20%'\n",
    "#all_acc = pd.concat([acc01,acc05,acc10,acc15,facc20],axis = 0)\n",
    "all_acc = pd.concat([acc05,acc10,acc15,w2acc20],axis = 0)\n",
    "all_acc.columns = ['accuracy','percentage']\n",
    "\n",
    "sns.boxenplot(x = 'percentage',y = 'accuracy', data = all_acc, color = 'lightgray')\n",
    "plt.rcParams[\"font.family\"] = \"Times New Roman\"\n",
    "plt.hlines(y = feat_orig_acc, xmin = -0.5, xmax = 3.5, linewidth = 1.5, linestyles = 'solid')\n",
    "plt.ylim([55,95])\n",
    "plt.show()"
   ]
  },
  {
   "cell_type": "code",
   "execution_count": 7,
   "metadata": {},
   "outputs": [],
   "source": [
    "if net_size != 'Small':\n",
    "    start += 4*size\n",
    "    acc05 = res_feat.loc[start:start+size].reset_index(drop=True).to_frame()\n",
    "    acc10 = res_feat.loc[start+size:start+2*size].reset_index(drop=True).to_frame()\n",
    "    acc15 = res_feat.loc[start+2*size:start+3*size].reset_index(drop=True).to_frame()\n",
    "    w3acc20 = res_feat.loc[start+3*size:start+4*size].reset_index(drop=True).to_frame()\n",
    "\n",
    "    acc05['percent'] = '5%'\n",
    "    acc10['percent'] = '10%'\n",
    "    acc15['percent'] = '15%'\n",
    "    w3acc20['percent'] = '20%'\n",
    "    all_acc = pd.concat([acc05,acc10,acc15,w3acc20],axis = 0)\n",
    "    all_acc.columns = ['accuracy','percentage']\n",
    "\n",
    "    sns.boxenplot(x = 'percentage',y = 'accuracy', data = all_acc, color = 'lightgray')\n",
    "    plt.rcParams[\"font.family\"] = \"Times New Roman\"\n",
    "    plt.hlines(y = feat_orig_acc, xmin = -0.5, xmax = 3.5, linewidth = 1.5, linestyles = 'solid')\n",
    "    plt.ylim([55,95])\n",
    "    plt.show()"
   ]
  },
  {
   "cell_type": "code",
   "execution_count": 8,
   "metadata": {},
   "outputs": [],
   "source": [
    "if net_size == 'Large':\n",
    "    start += 4*size\n",
    "    acc05 = res_feat.loc[start:start+size].reset_index(drop=True).to_frame()\n",
    "    acc10 = res_feat.loc[start+size:start+2*size].reset_index(drop=True).to_frame()\n",
    "    acc15 = res_feat.loc[start+2*size:start+3*size].reset_index(drop=True).to_frame()\n",
    "    w4acc20 = res_feat.loc[start+3*size:start+4*size].reset_index(drop=True).to_frame()\n",
    "\n",
    "    acc05['percent'] = '5%'\n",
    "    acc10['percent'] = '10%'\n",
    "    acc15['percent'] = '15%'\n",
    "    w4acc20['percent'] = '20%'\n",
    "    all_acc = pd.concat([acc05,acc10,acc15,w4acc20],axis = 0)\n",
    "    all_acc.columns = ['accuracy','percentage']\n",
    "\n",
    "    sns.boxenplot(x = 'percentage',y = 'accuracy', data = all_acc, color = 'lightgray')\n",
    "    plt.rcParams[\"font.family\"] = \"Times New Roman\"\n",
    "    plt.hlines(y = feat_orig_acc, xmin = -0.5, xmax = 3.5, linewidth = 1.5, linestyles = 'solid')\n",
    "    plt.ylim([55,95])\n",
    "    plt.show()"
   ]
  },
  {
   "cell_type": "code",
   "execution_count": 9,
   "metadata": {},
   "outputs": [
    {
     "data": {
      "image/png": "[encoded data removed]",
      "text/plain": [
       "<Figure size 432x288 with 1 Axes>"
      ]
     },
     "metadata": {
      "needs_background": "light"
     },
     "output_type": "display_data"
    }
   ],
   "source": [
    "w0acc20['percent'] = 'Layer 0'\n",
    "w1acc20['percent'] = 'Layer 1'\n",
    "w2acc20['percent'] = 'Layer 2'\n",
    "all_layers = [w0acc20,w1acc20,w2acc20]\n",
    "if net_size != 'Small':\n",
    "    w3acc20['percent'] = 'Layer 3'\n",
    "    all_layers += [w3acc20]\n",
    "if net_size == 'Large':\n",
    "    all_layers += [w4acc20]\n",
    "all_layers[-1]['percent'] = 'All Weights'\n",
    "\n",
    "xmax = len(all_layers) - 0.5\n",
    "\n",
    "all_acc = pd.concat(all_layers,axis = 0, ignore_index = True)\n",
    "all_acc.columns = ['Accuracy','Section']\n",
    "box1 = sns.boxenplot(x = 'Section',y = 'Accuracy', data = all_acc, color = 'w')\n",
    "sns.boxenplot(x = 'Section',y = 'Accuracy', data = all_acc, color = 'lightgray')\n",
    "plt.hlines(y = feat_orig_acc, xmin = -0.5, xmax = xmax, linewidth = 1)\n",
    "plt.xlabel('Section',labelpad = -1)\n",
    "plt.ylabel('Accuracy (%)',labelpad = -1)\n",
    "plt.xticks(rotation=15)\n",
    "plt.yticks([60,70,80,90])\n",
    "plt.ylim([55,95])\n",
    "plt.grid(True,axis = 'y')\n",
    "fig = box1.get_figure()\n",
    "fig.savefig('boxplot.png', dpi=300, bbox_inches='tight')\n",
    "plt.show()"
   ]
  },
  {
   "cell_type": "code",
   "execution_count": 10,
   "metadata": {},
   "outputs": [
    {
     "name": "stdout",
     "output_type": "stream",
     "text": [
      "1\n"
     ]
    },
    {
     "data": {
      "image/png": "[encoded data removed]",
      "text/plain": [
       "<Figure size 432x288 with 1 Axes>"
      ]
     },
     "metadata": {
      "needs_background": "light"
     },
     "output_type": "display_data"
    }
   ],
   "source": [
    "start = 1\n",
    "print(start)\n",
    "res_feat = pd.read_csv(directory + 'Result_Features_{}.csv'.format(net_size),header = None)[2]*100\n",
    "feat_orig_acc = res_feat.loc[0]\n",
    "acc05 = res_feat.loc[start:start+size].reset_index(drop=True).to_frame()\n",
    "acc10 = res_feat.loc[start+size:start+2*size].reset_index(drop=True).to_frame()\n",
    "acc15 = res_feat.loc[start+2*size:start+3*size].reset_index(drop=True).to_frame()\n",
    "facc20 = res_feat.loc[start+3*size:start+4*size].reset_index(drop=True).to_frame()\n",
    "\n",
    "acc05['percent'] = '5%'\n",
    "acc10['percent'] = '10%'\n",
    "acc15['percent'] = '15%'\n",
    "facc20['percent'] = '20%'\n",
    "all_acc = pd.concat([acc05,acc10,acc15,facc20],axis = 0)\n",
    "all_acc.columns = ['accuracy','percentage']\n",
    "\n",
    "sns.boxenplot(x = 'percentage',y = 'accuracy', data = all_acc, color = 'lightgray')\n",
    "plt.rcParams[\"font.family\"] = \"Times New Roman\"\n",
    "plt.hlines(y = feat_orig_acc, xmin = -0.5, xmax = 3.5, linewidth = 1.5, linestyles = 'solid')\n",
    "plt.ylim([55,95])\n",
    "plt.show()"
   ]
  },
  {
   "cell_type": "code",
   "execution_count": 17,
   "metadata": {},
   "outputs": [
    {
     "name": "stdout",
     "output_type": "stream",
     "text": [
      "1\n"
     ]
    },
    {
     "data": {
      "image/png": "[encoded data removed]",
      "text/plain": [
       "<Figure size 432x288 with 1 Axes>"
      ]
     },
     "metadata": {
      "needs_background": "light"
     },
     "output_type": "display_data"
    }
   ],
   "source": [
    "start = 1\n",
    "print(start)\n",
    "res_feat = pd.read_csv(directory + 'Result_All_{}.csv'.format(net_size),header = None)[2]*100\n",
    "feat_orig_acc = res_feat.loc[0]\n",
    "acc05 = res_feat.loc[start:start+size].reset_index(drop=True).to_frame()\n",
    "acc10 = res_feat.loc[start+size:start+2*size].reset_index(drop=True).to_frame()\n",
    "acc15 = res_feat.loc[start+2*size:start+3*size].reset_index(drop=True).to_frame()\n",
    "ALLacc20 = res_feat.loc[start+3*size:start+4*size].reset_index(drop=True).to_frame()\n",
    "\n",
    "acc05['percent'] = '5%'\n",
    "acc10['percent'] = '10%'\n",
    "acc15['percent'] = '15%'\n",
    "ALLacc20['percent'] = '20%'\n",
    "all_acc = pd.concat([acc05,acc10,acc15,ALLacc20],axis = 0)\n",
    "all_acc.columns = ['accuracy','percentage']\n",
    "\n",
    "sns.boxenplot(x = 'percentage',y = 'accuracy', data = all_acc, color = 'lightgray')\n",
    "plt.rcParams[\"font.family\"] = \"Times New Roman\"\n",
    "plt.hlines(y = feat_orig_acc, xmin = -0.5, xmax = 3.5, linewidth = 1.5, linestyles = 'solid')\n",
    "plt.ylim([55,95])\n",
    "plt.show()"
   ]
  },
  {
   "cell_type": "code",
   "execution_count": 20,
   "metadata": {},
   "outputs": [
    {
     "data": {
      "image/png": "[encoded data removed]",
      "text/plain": [
       "<Figure size 432x288 with 1 Axes>"
      ]
     },
     "metadata": {
      "needs_background": "light"
     },
     "output_type": "display_data"
    }
   ],
   "source": [
    "facc20['percent'] = 'Feat. Ex.'\n",
    "w0acc20['percent'] = 'Layer 0'\n",
    "w1acc20['percent'] = 'Layer 1'\n",
    "w2acc20['percent'] = 'Layer 2'\n",
    "all_layers = [facc20,w0acc20,w1acc20,w2acc20]\n",
    "if net_size != 'Small':\n",
    "    w3acc20['percent'] = 'Layer 3'\n",
    "    all_layers += [w3acc20]\n",
    "if net_size == 'Large':\n",
    "    all_layers += [w4acc20]\n",
    "#all_layers[-1]['percent'] = 'All Layers'\n",
    "ALLacc20['percent'] = 'All'\n",
    "all_layers = all_layers[:-1] + [ALLacc20]\n",
    "\n",
    "xmax = len(all_layers) - 0.5\n",
    "\n",
    "all_acc = pd.concat(all_layers,axis = 0, ignore_index = True)\n",
    "all_acc.columns = ['Accuracy','Section']\n",
    "box1 = sns.boxenplot(x = 'Section',y = 'Accuracy', data = all_acc, color = 'w')\n",
    "sns.boxenplot(x = 'Section',y = 'Accuracy', data = all_acc, color = 'lightgray')\n",
    "plt.hlines(y = feat_orig_acc, xmin = -0.5, xmax = xmax, linewidth = 1)\n",
    "plt.xlabel('Section',labelpad = -1)\n",
    "plt.ylabel('Accuracy (%)',labelpad = -1)\n",
    "plt.xticks(rotation=15)\n",
    "plt.yticks([60,70,80,90])\n",
    "plt.ylim([55,95])\n",
    "plt.grid(True,axis = 'y')\n",
    "fig = box1.get_figure()\n",
    "fig.savefig('boxplot.png', dpi=300, bbox_inches='tight')\n",
    "plt.show()"
   ]
  },
  {
   "cell_type": "code",
   "execution_count": null,
   "metadata": {},
   "outputs": [],
   "source": []
  }
 ],
 "metadata": {
  "kernelspec": {
   "display_name": "Python 3",
   "language": "python",
   "name": "python3"
  },
  "language_info": {
   "codemirror_mode": {
    "name": "ipython",
    "version": 3
   },
   "file_extension": ".py",
   "mimetype": "text/x-python",
   "name": "python",
   "nbconvert_exporter": "python",
   "pygments_lexer": "ipython3",
   "version": "3.7.6"
  }
 },
 "nbformat": 4,
 "nbformat_minor": 4
}
