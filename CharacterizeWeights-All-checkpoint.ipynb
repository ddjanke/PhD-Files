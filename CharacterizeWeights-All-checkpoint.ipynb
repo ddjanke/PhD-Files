{
 "cells": [
  {
   "cell_type": "code",
   "execution_count": 13,
   "metadata": {},
   "outputs": [],
   "source": [
    "import pandas as pd\n",
    "import numpy as np\n",
    "import ergence as erg\n",
    "import ANN_Model as ann\n",
    "import torch\n",
    "import seaborn as sns\n",
    "import matplotlib.pyplot as plt\n",
    "import matplotlib.patches as mpatches\n",
    "import copy\n",
    "\n",
    "sns.set_style(style = 'white',rc={'figure.figsize':(3.25,1), 'font.family':\"Times New Roman\", 'font.size': 8,\n",
    "                                  'patch.edgecolor': 'darkgrey', 'dpi': 300})"
   ]
  },
  {
   "cell_type": "code",
   "execution_count": 20,
   "metadata": {},
   "outputs": [],
   "source": [
    "def set_size(width, fraction=1):\n",
    "    \"\"\" Set figure dimensions to avoid scaling in LaTeX.\n",
    "\n",
    "    Parameters\n",
    "    ----------\n",
    "    width: float\n",
    "            Document textwidth or columnwidth in pts\n",
    "    fraction: float, optional\n",
    "            Fraction of the width which you wish the figure to occupy\n",
    "\n",
    "    Returns\n",
    "    -------\n",
    "    fig_dim: tuple\n",
    "            Dimensions of figure in inches\n",
    "    \"\"\"\n",
    "    # Width of figure (in pts)\n",
    "    fig_width_pt = width * fraction\n",
    "\n",
    "    # Convert from pt to inches\n",
    "    inches_per_pt = 1 / 72.27\n",
    "\n",
    "    # Golden ratio to set aesthetic figure height\n",
    "    golden_ratio = (5**.5 - 1) / 2\n",
    "\n",
    "    # Figure width in inches\n",
    "    fig_width_in = fig_width_pt * inches_per_pt\n",
    "    # Figure height in inches\n",
    "    fig_height_in = fig_width_in * golden_ratio\n",
    "\n",
    "    fig_dim = (fig_width_in, fig_height_in)\n",
    "\n",
    "    return fig_dim"
   ]
  },
  {
   "cell_type": "code",
   "execution_count": 14,
   "metadata": {
    "scrolled": false
   },
   "outputs": [
    {
     "name": "stdout",
     "output_type": "stream",
     "text": [
      "/home/djanke3/Documents/Spyder/Results_Torch/Tanh/Small0/\n",
      "/home/djanke3/Documents/Spyder/Results_Torch/Tanh/Small1/\n",
      "/home/djanke3/Documents/Spyder/Results_Torch/Tanh/Small2/\n",
      "/home/djanke3/Documents/Spyder/Results_Torch/Tanh/Med0/\n",
      "/home/djanke3/Documents/Spyder/Results_Torch/Tanh/Med1/\n",
      "/home/djanke3/Documents/Spyder/Results_Torch/Tanh/Med2/\n",
      "/home/djanke3/Documents/Spyder/Results_Torch/Tanh/Large0/\n",
      "/home/djanke3/Documents/Spyder/Results_Torch/Tanh/Large1/\n",
      "/home/djanke3/Documents/Spyder/Results_Torch/Tanh/Large2/\n",
      "/home/djanke3/Documents/Spyder/Results_Torch/CompTanh/Small0/\n",
      "/home/djanke3/Documents/Spyder/Results_Torch/CompTanh/Small1/\n",
      "/home/djanke3/Documents/Spyder/Results_Torch/CompTanh/Small2/\n",
      "/home/djanke3/Documents/Spyder/Results_Torch/CompTanh/Med0/\n",
      "/home/djanke3/Documents/Spyder/Results_Torch/CompTanh/Med1/\n",
      "/home/djanke3/Documents/Spyder/Results_Torch/CompTanh/Med2/\n",
      "/home/djanke3/Documents/Spyder/Results_Torch/CompTanh/Large0/\n",
      "/home/djanke3/Documents/Spyder/Results_Torch/CompTanh/Large1/\n",
      "/home/djanke3/Documents/Spyder/Results_Torch/CompTanh/Large2/\n",
      "(38053, 5)\n"
     ]
    }
   ],
   "source": [
    "numfil = 6\n",
    "size = 500\n",
    "accs = []\n",
    "for folder in ['Tanh','CompTanh']:\n",
    "    for net_size in ['Small','Med','Large']:\n",
    "        for num in range(3):\n",
    "\n",
    "            directory = \"/home/djanke3/Documents/Spyder/Results_Torch/{}/{}{}/\".format(folder,net_size,num)\n",
    "\n",
    "            print(directory)\n",
    "\n",
    "            if net_size == 'Small':\n",
    "                nodes = (numfil, numfil, 1)\n",
    "            if net_size == 'Med':\n",
    "                nodes = (numfil, numfil*2, numfil, 1)\n",
    "            if net_size == 'Large':\n",
    "                nodes = (numfil, numfil*3, numfil*2, numfil, 1)\n",
    "\n",
    "            clf = ann.ANNModelTorch(nodes,device = 'cpu')\n",
    "            clf.load_state_dict(torch.load(directory+'TrainedVoltages{}.pt'.format(net_size)))\n",
    "            \n",
    "            start = 1\n",
    "            if num == 0 and folder == 'Tanh' and net_size != 'Large':\n",
    "                res_feat = pd.read_csv(directory + 'Result_Features_{}.csv'.format(net_size),header = None)[2]*100\n",
    "                feat_orig_acc = res_feat.loc[0]\n",
    "                acc05 = res_feat.loc[start:start+size].reset_index(drop=True).to_frame()\n",
    "                acc10 = res_feat.loc[start+size:start+2*size].reset_index(drop=True).to_frame()\n",
    "                acc15 = res_feat.loc[start+2*size:start+3*size].reset_index(drop=True).to_frame()\n",
    "                facc20 = res_feat.loc[start+3*size:start+4*size].reset_index(drop=True).to_frame()\n",
    "                facc20['layer'] = 'Feat. Ex.'\n",
    "\n",
    "                res_feat = pd.read_csv(directory + 'Result_All_{}.csv'.format(net_size),header = None)[2]*100\n",
    "                feat_orig_acc = res_feat.loc[0]\n",
    "                acc05 = res_feat.loc[start:start+size].reset_index(drop=True).to_frame()\n",
    "                acc10 = res_feat.loc[start+size:start+2*size].reset_index(drop=True).to_frame()\n",
    "                acc15 = res_feat.loc[start+2*size:start+3*size].reset_index(drop=True).to_frame()\n",
    "                ALLacc20 = res_feat.loc[start+3*size:start+4*size].reset_index(drop=True).to_frame()\n",
    "                ALLacc20['layer'] = 'All'\n",
    "\n",
    "            start = 1\n",
    "            res_feat = pd.read_csv(directory + 'Result_Weights_{}.csv'.format(net_size),header = None)[2]*100\n",
    "            feat_orig_acc = res_feat.loc[0]\n",
    "            acc05 = res_feat.loc[start:start+size].reset_index(drop=True).to_frame()\n",
    "            acc10 = res_feat.loc[start+size:start+2*size].reset_index(drop=True).to_frame()\n",
    "            acc15 = res_feat.loc[start+2*size:start+3*size].reset_index(drop=True).to_frame()\n",
    "            w0acc20 = res_feat.loc[start+3*size:start+4*size].reset_index(drop=True).to_frame()\n",
    "\n",
    "            start += 4*size\n",
    "            acc05 = res_feat.loc[start:start+size].reset_index(drop=True).to_frame()\n",
    "            acc10 = res_feat.loc[start+size:start+2*size].reset_index(drop=True).to_frame()\n",
    "            acc15 = res_feat.loc[start+2*size:start+3*size].reset_index(drop=True).to_frame()\n",
    "            w1acc20 = res_feat.loc[start+3*size:start+4*size].reset_index(drop=True).to_frame()\n",
    "\n",
    "            start += 4*size\n",
    "            acc05 = res_feat.loc[start:start+size].reset_index(drop=True).to_frame()\n",
    "            acc10 = res_feat.loc[start+size:start+2*size].reset_index(drop=True).to_frame()\n",
    "            acc15 = res_feat.loc[start+2*size:start+3*size].reset_index(drop=True).to_frame()\n",
    "            w2acc20 = res_feat.loc[start+3*size:start+4*size].reset_index(drop=True).to_frame()\n",
    "\n",
    "            if net_size != 'Small':\n",
    "                start += 4*size\n",
    "                acc05 = res_feat.loc[start:start+size].reset_index(drop=True).to_frame()\n",
    "                acc10 = res_feat.loc[start+size:start+2*size].reset_index(drop=True).to_frame()\n",
    "                acc15 = res_feat.loc[start+2*size:start+3*size].reset_index(drop=True).to_frame()\n",
    "                w3acc20 = res_feat.loc[start+3*size:start+4*size].reset_index(drop=True).to_frame()\n",
    "\n",
    "            if net_size == 'Large':\n",
    "                start += 4*size\n",
    "                acc05 = res_feat.loc[start:start+size].reset_index(drop=True).to_frame()\n",
    "                acc10 = res_feat.loc[start+size:start+2*size].reset_index(drop=True).to_frame()\n",
    "                acc15 = res_feat.loc[start+2*size:start+3*size].reset_index(drop=True).to_frame()\n",
    "                w4acc20 = res_feat.loc[start+3*size:start+4*size].reset_index(drop=True).to_frame()\n",
    "\n",
    "            w0acc20['layer'] = 'Layer 0'\n",
    "            w1acc20['layer'] = 'Layer 1'\n",
    "            w2acc20['layer'] = 'Layer 2'\n",
    "            all_layers = [w0acc20,w1acc20,w2acc20]\n",
    "            if net_size != 'Small':\n",
    "                w3acc20['layer'] = 'Layer 3'\n",
    "                all_layers += [w3acc20]\n",
    "            if net_size == 'Large':\n",
    "                all_layers += [w4acc20]\n",
    "            all_layers[-1]['layer'] = 'All Weights'\n",
    "\n",
    "            if num == 0 and folder == 'Tanh' and net_size != 'Large':\n",
    "                all_layers = [facc20] + all_layers + [ALLacc20]\n",
    "\n",
    "            all_acc = pd.concat(all_layers,axis = 0, ignore_index = True)\n",
    "            all_acc['net_size'] = net_size\n",
    "            all_acc['num'] = num\n",
    "            all_acc['folder'] = folder+str(num)\n",
    "            all_acc.columns = ['Accuracy','Section','Size','Num','Activation']\n",
    "            accs += [all_acc]\n",
    "            \n",
    "all_acc = pd.DataFrame(columns = ['Accuracy','Section','Size','Num','Activation'])\n",
    "for df in accs:\n",
    "    all_acc = pd.concat((all_acc,df),axis = 0, ignore_index = True)\n",
    "print(all_acc.shape)"
   ]
  },
  {
   "cell_type": "code",
   "execution_count": 18,
   "metadata": {
    "scrolled": true
   },
   "outputs": [
    {
     "data": {
      "image/png": "[encoded data removed]",
      "text/plain": [
       "<Figure size 432x288 with 1 Axes>"
      ]
     },
     "metadata": {},
     "output_type": "display_data"
    }
   ],
   "source": [
    "all_acc_layers = all_acc[all_acc['Num'] == 0]\n",
    "all_acc_layers = all_acc_layers[all_acc_layers['Activation'] == 'Tanh0']\n",
    "\n",
    "#plt.figure(figsize = (3.25,2))\n",
    "box1 = sns.boxenplot(x = 'Section',y = 'Accuracy', hue = 'Size', data = all_acc_layers,\n",
    "                     palette = [\"darkgrey\", \"lightgrey\", \"grey\"],\n",
    "                     order = ['Feat. Ex.','Layer 0', 'Layer 1', 'Layer 2', 'Layer 3', 'All Weights','All'])\n",
    "plt.xlabel('Section',labelpad = -1)\n",
    "plt.ylabel('Accuracy (%)',labelpad = -1)\n",
    "plt.xticks(rotation=20)\n",
    "plt.yticks([60,70,80,90])\n",
    "plt.ylim([55,95])\n",
    "plt.grid(True,axis = 'y')\n",
    "fig = box1.get_figure()\n",
    "fig.savefig('Layer_Compare.pdf', dpi=300, bbox_inches='tight')\n",
    "plt.show()"
   ]
  },
  {
   "cell_type": "code",
   "execution_count": 19,
   "metadata": {},
   "outputs": [
    {
     "data": {
      "image/png": "[encoded data removed]",
      "text/plain": [
       "<Figure size 234x144 with 1 Axes>"
      ]
     },
     "metadata": {},
     "output_type": "display_data"
    },
    {
     "data": {
      "text/plain": [
       "<Figure size 252x144 with 0 Axes>"
      ]
     },
     "metadata": {},
     "output_type": "display_data"
    }
   ],
   "source": [
    "#all_acc_layers = all_acc[all_acc['Num'] == 1]\n",
    "#all_acc_layers = all_acc_layers[all_acc_layers['Activation'] == 'Tanh']\n",
    "\n",
    "plt.figure(figsize = (3.25,2))\n",
    "box1 = sns.boxenplot(x = 'Size',y = 'Accuracy', hue = 'Activation', data = all_acc,\n",
    "                     palette = [\"lightgrey\",\"lightgrey\",\"lightgrey\", \"grey\", \"grey\", \"grey\"])\n",
    "#box1 = sns.catplot(x = 'Activation',y = 'Accuracy', col = 'Size', hue = 'Num', data = all_acc,\n",
    "#                     palette = [\"darkgrey\"], kind = 'boxen')\n",
    "\n",
    "#plt.xlabel('Section',labelpad = -1)\n",
    "plt.ylabel('Accuracy (%)',labelpad = -1)\n",
    "#plt.xticks(rotation=20)\n",
    "plt.yticks([60,70,80,90])\n",
    "plt.ylim([55,95])\n",
    "plt.grid(True,axis = 'y')\n",
    "\n",
    "tanh = mpatches.Patch(color='lightgrey', label='Tanh')\n",
    "comptanh = mpatches.Patch(color='grey', label='CompTanh')\n",
    "plt.legend(handles=[tanh,comptanh], loc = 'lower left')\n",
    "fig = plt.figure()\n",
    "fig.set_figheight(2)\n",
    "fig.set_figwidth(3.5)\n",
    "#fig = box1.get_figure()\n",
    "fig.savefig('Comp_Tanh.pdf', dpi=300, bbox_inches='tight')\n",
    "plt.show()"
   ]
  },
  {
   "cell_type": "code",
   "execution_count": 22,
   "metadata": {},
   "outputs": [
    {
     "data": {
      "image/png": "[encoded data removed]",
      "text/plain": [
       "<Figure size 514.072x317.714 with 1 Axes>"
      ]
     },
     "metadata": {},
     "output_type": "display_data"
    }
   ],
   "source": [
    "all_acc_feat = all_acc[all_acc['Num'] == 0]\n",
    "all_acc_feat = all_acc_feat[all_acc_feat['Section'] == 'Feat. Ex.']\n",
    "\n",
    "plt.figure(figsize = (3.25,1))\n",
    "box1 = sns.boxenplot(x = 'Size',y = 'Accuracy', data = all_acc_feat,\n",
    "                     palette = [\"darkgrey\", \"lightgrey\", \"grey\"],\n",
    "                     order = ['Small','Med',\"Large\"])\n",
    "plt.xlabel('Network Size',labelpad = -0.5)\n",
    "plt.ylabel('Accuracy (%)',labelpad = -1)\n",
    "plt.yticks([80,85,90,95])\n",
    "plt.ylim([85,95])\n",
    "plt.grid(True,axis = 'y')\n",
    "fig = box1.get_figure()\n",
    "fig.savefig('boxplot.pdf', dpi=300, bbox_inches='tight')\n",
    "plt.show()"
   ]
  },
  {
   "cell_type": "code",
   "execution_count": 6,
   "metadata": {},
   "outputs": [
    {
     "name": "stdout",
     "output_type": "stream",
     "text": [
      "1\n"
     ]
    },
    {
     "ename": "FileNotFoundError",
     "evalue": "[Errno 2] File /home/djanke3/Documents/Spyder/Results_Torch/CompTanh/Large2/Result_All_Large.csv does not exist: '/home/djanke3/Documents/Spyder/Results_Torch/CompTanh/Large2/Result_All_Large.csv'",
     "output_type": "error",
     "traceback": [
      "\u001b[0;31m---------------------------------------------------------------------------\u001b[0m",
      "\u001b[0;31mFileNotFoundError\u001b[0m                         Traceback (most recent call last)",
      "\u001b[0;32m<ipython-input-6-795f9472c8c6>\u001b[0m in \u001b[0;36m<module>\u001b[0;34m\u001b[0m\n\u001b[1;32m      1\u001b[0m \u001b[0mstart\u001b[0m \u001b[0;34m=\u001b[0m \u001b[0;36m1\u001b[0m\u001b[0;34m\u001b[0m\u001b[0;34m\u001b[0m\u001b[0m\n\u001b[1;32m      2\u001b[0m \u001b[0mprint\u001b[0m\u001b[0;34m(\u001b[0m\u001b[0mstart\u001b[0m\u001b[0;34m)\u001b[0m\u001b[0;34m\u001b[0m\u001b[0;34m\u001b[0m\u001b[0m\n\u001b[0;32m----> 3\u001b[0;31m \u001b[0mres_feat\u001b[0m \u001b[0;34m=\u001b[0m \u001b[0mpd\u001b[0m\u001b[0;34m.\u001b[0m\u001b[0mread_csv\u001b[0m\u001b[0;34m(\u001b[0m\u001b[0mdirectory\u001b[0m \u001b[0;34m+\u001b[0m \u001b[0;34m'Result_All_{}.csv'\u001b[0m\u001b[0;34m.\u001b[0m\u001b[0mformat\u001b[0m\u001b[0;34m(\u001b[0m\u001b[0mnet_size\u001b[0m\u001b[0;34m)\u001b[0m\u001b[0;34m,\u001b[0m\u001b[0mheader\u001b[0m \u001b[0;34m=\u001b[0m \u001b[0;32mNone\u001b[0m\u001b[0;34m)\u001b[0m\u001b[0;34m[\u001b[0m\u001b[0;36m2\u001b[0m\u001b[0;34m]\u001b[0m\u001b[0;34m*\u001b[0m\u001b[0;36m100\u001b[0m\u001b[0;34m\u001b[0m\u001b[0;34m\u001b[0m\u001b[0m\n\u001b[0m\u001b[1;32m      4\u001b[0m \u001b[0mfeat_orig_acc\u001b[0m \u001b[0;34m=\u001b[0m \u001b[0mres_feat\u001b[0m\u001b[0;34m.\u001b[0m\u001b[0mloc\u001b[0m\u001b[0;34m[\u001b[0m\u001b[0;36m0\u001b[0m\u001b[0;34m]\u001b[0m\u001b[0;34m\u001b[0m\u001b[0;34m\u001b[0m\u001b[0m\n\u001b[1;32m      5\u001b[0m \u001b[0macc05\u001b[0m \u001b[0;34m=\u001b[0m \u001b[0mres_feat\u001b[0m\u001b[0;34m.\u001b[0m\u001b[0mloc\u001b[0m\u001b[0;34m[\u001b[0m\u001b[0mstart\u001b[0m\u001b[0;34m:\u001b[0m\u001b[0mstart\u001b[0m\u001b[0;34m+\u001b[0m\u001b[0msize\u001b[0m\u001b[0;34m]\u001b[0m\u001b[0;34m.\u001b[0m\u001b[0mreset_index\u001b[0m\u001b[0;34m(\u001b[0m\u001b[0mdrop\u001b[0m\u001b[0;34m=\u001b[0m\u001b[0;32mTrue\u001b[0m\u001b[0;34m)\u001b[0m\u001b[0;34m.\u001b[0m\u001b[0mto_frame\u001b[0m\u001b[0;34m(\u001b[0m\u001b[0;34m)\u001b[0m\u001b[0;34m\u001b[0m\u001b[0;34m\u001b[0m\u001b[0m\n",
      "\u001b[0;32m~/anaconda3/lib/python3.7/site-packages/pandas/io/parsers.py\u001b[0m in \u001b[0;36mparser_f\u001b[0;34m(filepath_or_buffer, sep, delimiter, header, names, index_col, usecols, squeeze, prefix, mangle_dupe_cols, dtype, engine, converters, true_values, false_values, skipinitialspace, skiprows, skipfooter, nrows, na_values, keep_default_na, na_filter, verbose, skip_blank_lines, parse_dates, infer_datetime_format, keep_date_col, date_parser, dayfirst, cache_dates, iterator, chunksize, compression, thousands, decimal, lineterminator, quotechar, quoting, doublequote, escapechar, comment, encoding, dialect, error_bad_lines, warn_bad_lines, delim_whitespace, low_memory, memory_map, float_precision)\u001b[0m\n\u001b[1;32m    674\u001b[0m         )\n\u001b[1;32m    675\u001b[0m \u001b[0;34m\u001b[0m\u001b[0m\n\u001b[0;32m--> 676\u001b[0;31m         \u001b[0;32mreturn\u001b[0m \u001b[0m_read\u001b[0m\u001b[0;34m(\u001b[0m\u001b[0mfilepath_or_buffer\u001b[0m\u001b[0;34m,\u001b[0m \u001b[0mkwds\u001b[0m\u001b[0;34m)\u001b[0m\u001b[0;34m\u001b[0m\u001b[0;34m\u001b[0m\u001b[0m\n\u001b[0m\u001b[1;32m    677\u001b[0m \u001b[0;34m\u001b[0m\u001b[0m\n\u001b[1;32m    678\u001b[0m     \u001b[0mparser_f\u001b[0m\u001b[0;34m.\u001b[0m\u001b[0m__name__\u001b[0m \u001b[0;34m=\u001b[0m \u001b[0mname\u001b[0m\u001b[0;34m\u001b[0m\u001b[0;34m\u001b[0m\u001b[0m\n",
      "\u001b[0;32m~/anaconda3/lib/python3.7/site-packages/pandas/io/parsers.py\u001b[0m in \u001b[0;36m_read\u001b[0;34m(filepath_or_buffer, kwds)\u001b[0m\n\u001b[1;32m    446\u001b[0m \u001b[0;34m\u001b[0m\u001b[0m\n\u001b[1;32m    447\u001b[0m     \u001b[0;31m# Create the parser.\u001b[0m\u001b[0;34m\u001b[0m\u001b[0;34m\u001b[0m\u001b[0;34m\u001b[0m\u001b[0m\n\u001b[0;32m--> 448\u001b[0;31m     \u001b[0mparser\u001b[0m \u001b[0;34m=\u001b[0m \u001b[0mTextFileReader\u001b[0m\u001b[0;34m(\u001b[0m\u001b[0mfp_or_buf\u001b[0m\u001b[0;34m,\u001b[0m \u001b[0;34m**\u001b[0m\u001b[0mkwds\u001b[0m\u001b[0;34m)\u001b[0m\u001b[0;34m\u001b[0m\u001b[0;34m\u001b[0m\u001b[0m\n\u001b[0m\u001b[1;32m    449\u001b[0m \u001b[0;34m\u001b[0m\u001b[0m\n\u001b[1;32m    450\u001b[0m     \u001b[0;32mif\u001b[0m \u001b[0mchunksize\u001b[0m \u001b[0;32mor\u001b[0m \u001b[0miterator\u001b[0m\u001b[0;34m:\u001b[0m\u001b[0;34m\u001b[0m\u001b[0;34m\u001b[0m\u001b[0m\n",
      "\u001b[0;32m~/anaconda3/lib/python3.7/site-packages/pandas/io/parsers.py\u001b[0m in \u001b[0;36m__init__\u001b[0;34m(self, f, engine, **kwds)\u001b[0m\n\u001b[1;32m    878\u001b[0m             \u001b[0mself\u001b[0m\u001b[0;34m.\u001b[0m\u001b[0moptions\u001b[0m\u001b[0;34m[\u001b[0m\u001b[0;34m\"has_index_names\"\u001b[0m\u001b[0;34m]\u001b[0m \u001b[0;34m=\u001b[0m \u001b[0mkwds\u001b[0m\u001b[0;34m[\u001b[0m\u001b[0;34m\"has_index_names\"\u001b[0m\u001b[0;34m]\u001b[0m\u001b[0;34m\u001b[0m\u001b[0;34m\u001b[0m\u001b[0m\n\u001b[1;32m    879\u001b[0m \u001b[0;34m\u001b[0m\u001b[0m\n\u001b[0;32m--> 880\u001b[0;31m         \u001b[0mself\u001b[0m\u001b[0;34m.\u001b[0m\u001b[0m_make_engine\u001b[0m\u001b[0;34m(\u001b[0m\u001b[0mself\u001b[0m\u001b[0;34m.\u001b[0m\u001b[0mengine\u001b[0m\u001b[0;34m)\u001b[0m\u001b[0;34m\u001b[0m\u001b[0;34m\u001b[0m\u001b[0m\n\u001b[0m\u001b[1;32m    881\u001b[0m \u001b[0;34m\u001b[0m\u001b[0m\n\u001b[1;32m    882\u001b[0m     \u001b[0;32mdef\u001b[0m \u001b[0mclose\u001b[0m\u001b[0;34m(\u001b[0m\u001b[0mself\u001b[0m\u001b[0;34m)\u001b[0m\u001b[0;34m:\u001b[0m\u001b[0;34m\u001b[0m\u001b[0;34m\u001b[0m\u001b[0m\n",
      "\u001b[0;32m~/anaconda3/lib/python3.7/site-packages/pandas/io/parsers.py\u001b[0m in \u001b[0;36m_make_engine\u001b[0;34m(self, engine)\u001b[0m\n\u001b[1;32m   1112\u001b[0m     \u001b[0;32mdef\u001b[0m \u001b[0m_make_engine\u001b[0m\u001b[0;34m(\u001b[0m\u001b[0mself\u001b[0m\u001b[0;34m,\u001b[0m \u001b[0mengine\u001b[0m\u001b[0;34m=\u001b[0m\u001b[0;34m\"c\"\u001b[0m\u001b[0;34m)\u001b[0m\u001b[0;34m:\u001b[0m\u001b[0;34m\u001b[0m\u001b[0;34m\u001b[0m\u001b[0m\n\u001b[1;32m   1113\u001b[0m         \u001b[0;32mif\u001b[0m \u001b[0mengine\u001b[0m \u001b[0;34m==\u001b[0m \u001b[0;34m\"c\"\u001b[0m\u001b[0;34m:\u001b[0m\u001b[0;34m\u001b[0m\u001b[0;34m\u001b[0m\u001b[0m\n\u001b[0;32m-> 1114\u001b[0;31m             \u001b[0mself\u001b[0m\u001b[0;34m.\u001b[0m\u001b[0m_engine\u001b[0m \u001b[0;34m=\u001b[0m \u001b[0mCParserWrapper\u001b[0m\u001b[0;34m(\u001b[0m\u001b[0mself\u001b[0m\u001b[0;34m.\u001b[0m\u001b[0mf\u001b[0m\u001b[0;34m,\u001b[0m \u001b[0;34m**\u001b[0m\u001b[0mself\u001b[0m\u001b[0;34m.\u001b[0m\u001b[0moptions\u001b[0m\u001b[0;34m)\u001b[0m\u001b[0;34m\u001b[0m\u001b[0;34m\u001b[0m\u001b[0m\n\u001b[0m\u001b[1;32m   1115\u001b[0m         \u001b[0;32melse\u001b[0m\u001b[0;34m:\u001b[0m\u001b[0;34m\u001b[0m\u001b[0;34m\u001b[0m\u001b[0m\n\u001b[1;32m   1116\u001b[0m             \u001b[0;32mif\u001b[0m \u001b[0mengine\u001b[0m \u001b[0;34m==\u001b[0m \u001b[0;34m\"python\"\u001b[0m\u001b[0;34m:\u001b[0m\u001b[0;34m\u001b[0m\u001b[0;34m\u001b[0m\u001b[0m\n",
      "\u001b[0;32m~/anaconda3/lib/python3.7/site-packages/pandas/io/parsers.py\u001b[0m in \u001b[0;36m__init__\u001b[0;34m(self, src, **kwds)\u001b[0m\n\u001b[1;32m   1889\u001b[0m         \u001b[0mkwds\u001b[0m\u001b[0;34m[\u001b[0m\u001b[0;34m\"usecols\"\u001b[0m\u001b[0;34m]\u001b[0m \u001b[0;34m=\u001b[0m \u001b[0mself\u001b[0m\u001b[0;34m.\u001b[0m\u001b[0musecols\u001b[0m\u001b[0;34m\u001b[0m\u001b[0;34m\u001b[0m\u001b[0m\n\u001b[1;32m   1890\u001b[0m \u001b[0;34m\u001b[0m\u001b[0m\n\u001b[0;32m-> 1891\u001b[0;31m         \u001b[0mself\u001b[0m\u001b[0;34m.\u001b[0m\u001b[0m_reader\u001b[0m \u001b[0;34m=\u001b[0m \u001b[0mparsers\u001b[0m\u001b[0;34m.\u001b[0m\u001b[0mTextReader\u001b[0m\u001b[0;34m(\u001b[0m\u001b[0msrc\u001b[0m\u001b[0;34m,\u001b[0m \u001b[0;34m**\u001b[0m\u001b[0mkwds\u001b[0m\u001b[0;34m)\u001b[0m\u001b[0;34m\u001b[0m\u001b[0;34m\u001b[0m\u001b[0m\n\u001b[0m\u001b[1;32m   1892\u001b[0m         \u001b[0mself\u001b[0m\u001b[0;34m.\u001b[0m\u001b[0munnamed_cols\u001b[0m \u001b[0;34m=\u001b[0m \u001b[0mself\u001b[0m\u001b[0;34m.\u001b[0m\u001b[0m_reader\u001b[0m\u001b[0;34m.\u001b[0m\u001b[0munnamed_cols\u001b[0m\u001b[0;34m\u001b[0m\u001b[0;34m\u001b[0m\u001b[0m\n\u001b[1;32m   1893\u001b[0m \u001b[0;34m\u001b[0m\u001b[0m\n",
      "\u001b[0;32mpandas/_libs/parsers.pyx\u001b[0m in \u001b[0;36mpandas._libs.parsers.TextReader.__cinit__\u001b[0;34m()\u001b[0m\n",
      "\u001b[0;32mpandas/_libs/parsers.pyx\u001b[0m in \u001b[0;36mpandas._libs.parsers.TextReader._setup_parser_source\u001b[0;34m()\u001b[0m\n",
      "\u001b[0;31mFileNotFoundError\u001b[0m: [Errno 2] File /home/djanke3/Documents/Spyder/Results_Torch/CompTanh/Large2/Result_All_Large.csv does not exist: '/home/djanke3/Documents/Spyder/Results_Torch/CompTanh/Large2/Result_All_Large.csv'"
     ]
    }
   ],
   "source": [
    "start = 1\n",
    "print(start)\n",
    "res_feat = pd.read_csv(directory + 'Result_All_{}.csv'.format(net_size),header = None)[2]*100\n",
    "feat_orig_acc = res_feat.loc[0]\n",
    "acc05 = res_feat.loc[start:start+size].reset_index(drop=True).to_frame()\n",
    "acc10 = res_feat.loc[start+size:start+2*size].reset_index(drop=True).to_frame()\n",
    "acc15 = res_feat.loc[start+2*size:start+3*size].reset_index(drop=True).to_frame()\n",
    "ALLacc20 = res_feat.loc[start+3*size:start+4*size].reset_index(drop=True).to_frame()\n",
    "\n",
    "acc05['percent'] = '5%'\n",
    "acc10['percent'] = '10%'\n",
    "acc15['percent'] = '15%'\n",
    "ALLacc20['percent'] = '20%'\n",
    "all_acc = pd.concat([acc05,acc10,acc15,ALLacc20],axis = 0)\n",
    "all_acc.columns = ['accuracy','percentage']\n",
    "\n",
    "sns.boxenplot(x = 'percentage',y = 'accuracy', data = all_acc, color = 'lightgray')\n",
    "plt.rcParams[\"font.family\"] = \"Times New Roman\"\n",
    "plt.hlines(y = feat_orig_acc, xmin = -0.5, xmax = 3.5, linewidth = 1.5, linestyles = 'solid')\n",
    "plt.ylim([55,95])\n",
    "plt.show()"
   ]
  },
  {
   "cell_type": "code",
   "execution_count": null,
   "metadata": {},
   "outputs": [],
   "source": [
    "facc20['percent'] = 'Feat. Ex.'\n",
    "w0acc20['percent'] = 'Layer 0'\n",
    "w1acc20['percent'] = 'Layer 1'\n",
    "w2acc20['percent'] = 'Layer 2'\n",
    "all_layers = [facc20,w0acc20,w1acc20,w2acc20]\n",
    "if net_size != 'Small':\n",
    "    w3acc20['percent'] = 'Layer 3'\n",
    "    all_layers += [w3acc20]\n",
    "if net_size == 'Large':\n",
    "    all_layers += [w4acc20]\n",
    "#all_layers[-1]['percent'] = 'All Layers'\n",
    "ALLacc20['percent'] = 'All'\n",
    "all_layers = all_layers[:-1] + [ALLacc20]\n",
    "\n",
    "xmax = len(all_layers) - 0.5\n",
    "\n",
    "all_acc = pd.concat(all_layers,axis = 0, ignore_index = True)\n",
    "all_acc.columns = ['Accuracy','Section']\n",
    "box1 = sns.boxenplot(x = 'Section',y = 'Accuracy', data = all_acc, color = 'w')\n",
    "sns.boxenplot(x = 'Section',y = 'Accuracy', data = all_acc, color = 'lightgray')\n",
    "plt.hlines(y = feat_orig_acc, xmin = -0.5, xmax = xmax, linewidth = 1)\n",
    "plt.xlabel('Section',labelpad = -1)\n",
    "plt.ylabel('Accuracy (%)',labelpad = -1)\n",
    "plt.xticks(rotation=15)\n",
    "plt.yticks([60,70,80,90])\n",
    "plt.ylim([55,95])\n",
    "plt.grid(True,axis = 'y')\n",
    "fig = box1.get_figure()\n",
    "fig.savefig('boxplot.png', dpi=300, bbox_inches='tight')\n",
    "plt.show()"
   ]
  },
  {
   "cell_type": "code",
   "execution_count": null,
   "metadata": {},
   "outputs": [],
   "source": [
    "import matplotlib\n",
    "matplotlib.get_cachedir()"
   ]
  },
  {
   "cell_type": "code",
   "execution_count": null,
   "metadata": {},
   "outputs": [],
   "source": []
  }
 ],
 "metadata": {
  "kernelspec": {
   "display_name": "Python 3",
   "language": "python",
   "name": "python3"
  },
  "language_info": {
   "codemirror_mode": {
    "name": "ipython",
    "version": 3
   },
   "file_extension": ".py",
   "mimetype": "text/x-python",
   "name": "python",
   "nbconvert_exporter": "python",
   "pygments_lexer": "ipython3",
   "version": "3.7.6"
  }
 },
 "nbformat": 4,
 "nbformat_minor": 4
}
