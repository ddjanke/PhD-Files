{
 "cells": [
  {
   "cell_type": "code",
   "execution_count": 1,
   "metadata": {},
   "outputs": [],
   "source": [
    "import json\n",
    "import pandas as pd\n",
    "import numpy as np\n",
    "import seaborn as sns\n",
    "import matplotlib.pyplot as plt\n",
    "from scipy import stats\n",
    "\n",
    "sns.set_style(rc={'figure.figsize':(3.25,1), 'font.family':\"Times New Roman\",\n",
    "                                  'font.size': 8, 'dpi': 300})\n",
    "\n",
    "plots = \"/home/djanke3/Documents/Spyder/plots/\""
   ]
  },
  {
   "cell_type": "markdown",
   "metadata": {},
   "source": [
    "## Equal Passes, Noise at all weights"
   ]
  },
  {
   "cell_type": "code",
   "execution_count": 2,
   "metadata": {},
   "outputs": [],
   "source": [
    "with open(\"PopulationNoiseResults_equalPasses2.json\", 'r') as pn:\n",
    "    data = {k:v for k,v in json.load(pn).items() if type(v) is not int}\n",
    "\n",
    "with open(\"PopulationNoiseResults_equalPasses1.json\", 'r') as pn:\n",
    "    data.update({k:v for k,v in json.load(pn).items() if type(v) is not int}) # and int(k.split('_')[-1]) in [200, 400, 600, 800, 1000, 1200, 1400, 1600, 1800, 2000]} # and k.split('_')[-1] in ['trial0', '0', '2', '4', '6', '8']}\n",
    "#print(data.keys())\n",
    "\n",
    "#print(data.keys())\n",
    "\n",
    "def str_to_list(in_string):\n",
    "    temp = in_string[1:-1].split(',')\n",
    "    return [int(s) for s in temp]\n",
    "\n",
    "score_num = 1\n",
    "df = pd.DataFrame()\n",
    "stats = {}\n",
    "stats_combined = {}\n",
    "for t,d in data.items():\n",
    "    stats[t] = {}\n",
    "    acc = d[\"accs\"]\n",
    "    \n",
    "    scores = list(acc.values())\n",
    "    scores = np.vstack([np.array(s) for s in scores])[score_num]\n",
    "    \n",
    "    stats[t][\"medians\"] = np.median(scores) * 100\n",
    "    stats[t][\"iqr\"] = (np.quantile(scores, 0.75) - np.quantile(scores, 0.25)) * 100\n",
    "    data[t] = d\n",
    "    \n",
    "    d[\"train\"] = d[\"accs\"][\"train\"]\n",
    "    d[\"val\"] = d[\"accs\"][\"val\"]\n",
    "    \n",
    "    d[\"p\"] = int(t.split(\"trial\")[-1].split('_')[0])\n",
    "    d[\"passes\"] = int(t.split(\"trial\")[-1].split('_')[1])\n",
    "    \n",
    "    stats[t][\"p\"] = d[\"p\"]\n",
    "    stats[t][\"passes\"] = d[\"passes\"]\n",
    "    \n",
    "    stats_combined[t[:-2]] = stats_combined.get(t[:-2], {})\n",
    "    stats_combined[t[:-2]][\"p\"] = d[\"p\"]\n",
    "    stats_combined[t[:-2]][\"passes\"] = d[\"passes\"]\n",
    "    stats_combined[t[:-2]][\"accs\"] = stats_combined[t[:-2]].get(\"accs\", []) + list(scores)\n",
    "    del d[\"accs\"]\n",
    "    del d[\"shape\"]\n",
    "    \n",
    "    temp_df =  pd.DataFrame.from_dict(d, orient = \"columns\")\n",
    "    df = pd.concat([df, temp_df], ignore_index = True)\n",
    "    \n",
    "for k,v in stats_combined.items():\n",
    "    v[\"medians\"] = np.median(v[\"accs\"])\n",
    "    v[\"iqr\"] = np.quantile(v[\"accs\"], 0.75) - np.quantile(v[\"accs\"], 0.25)\n",
    "    v[\"samples\"] = len(v[\"accs\"])\n",
    "    del v[\"accs\"]"
   ]
  },
  {
   "cell_type": "code",
   "execution_count": 3,
   "metadata": {},
   "outputs": [],
   "source": [
    "yvars = [\"medians\", \"iqr\"]\n",
    "ylabels = [\"Median\\nAccuracy (%)\", \"Inter-quartile\\nRange (%)\"]\n",
    "\n",
    "acc_lim = [50, 82]\n",
    "iqr_lim = [2, 15]\n",
    "\n",
    "def plot_accuracies(y_num, data, noise):\n",
    "    \n",
    "    fig = plt.figure()\n",
    "    fig.set_figheight(2.5)\n",
    "    fig.set_figwidth(2.9)\n",
    "    \n",
    "    yvar = yvars[y_num]\n",
    "    ylabel = ylabels[y_num]\n",
    "    ylim = [acc_lim, iqr_lim][y_num]\n",
    "\n",
    "    #title = None\n",
    "    plt0 = sns.lineplot(x=\"passes\", y = yvar, hue = \"p\", data = combo_df, palette = sns.color_palette(\"ch:dark=0.25\", 5))\n",
    "    plt.ylim(ylim)\n",
    "    plt.ylabel(ylabel, labelpad = 0)\n",
    "    plt.xlabel(\"No. of Passes\", labelpad=0)\n",
    "    plt0.tick_params(axis='both', which='major', pad=0)\n",
    "    \n",
    "    \n",
    "    #plt.show()\n",
    "            \n",
    "    title = None\n",
    "    \n",
    "    if y_num == 0:\n",
    "        location = \"lower right\"\n",
    "        ncol = 3\n",
    "    else:\n",
    "        location = \"upper right\"\n",
    "        ncol = 3\n",
    "\n",
    "    plt.legend(ncol = ncol, loc=location,\n",
    "                 borderaxespad=0., fancybox = False, edgecolor = 'black',\n",
    "                 handlelength = 0.5, handletextpad = 0.5, columnspacing = 0.5)\n",
    "    \n",
    "    #plt.xticks(rotation=20)\n",
    "    plt.yticks([y for y in range(ylim[0], ylim[1] + 1) if y % 5 == 0])\n",
    "    plt.grid(True,axis = 'y')\n",
    "    \n",
    "        \n",
    "    fig = plt0.get_figure()\n",
    "    figname = plots + \"VAD_popTrain_{}Noise_{}.pdf\".format(noise, yvar)\n",
    "    fig.savefig(figname, dpi=300, bbox_inches='tight')"
   ]
  },
  {
   "cell_type": "code",
   "execution_count": 4,
   "metadata": {},
   "outputs": [
    {
     "ename": "FileNotFoundError",
     "evalue": "[Errno 2] No such file or directory: '/home/djanke3/Documents/Spyder/plots/VAD_popTrain_allNoise_medians.pdf'",
     "output_type": "error",
     "traceback": [
      "\u001b[1;31m---------------------------------------------------------------------------\u001b[0m",
      "\u001b[1;31mFileNotFoundError\u001b[0m                         Traceback (most recent call last)",
      "\u001b[1;32m<ipython-input-4-9f960ae685e2>\u001b[0m in \u001b[0;36m<module>\u001b[1;34m\u001b[0m\n\u001b[0;32m      2\u001b[0m \u001b[0mcombo_df\u001b[0m \u001b[1;33m=\u001b[0m \u001b[0mcombo_df\u001b[0m\u001b[1;33m[\u001b[0m\u001b[0mcombo_df\u001b[0m\u001b[1;33m[\u001b[0m\u001b[1;34m\"passes\"\u001b[0m\u001b[1;33m]\u001b[0m \u001b[1;33m<\u001b[0m \u001b[1;36m4001\u001b[0m\u001b[1;33m]\u001b[0m\u001b[1;33m\u001b[0m\u001b[1;33m\u001b[0m\u001b[0m\n\u001b[0;32m      3\u001b[0m \u001b[1;33m\u001b[0m\u001b[0m\n\u001b[1;32m----> 4\u001b[1;33m \u001b[0mplot_accuracies\u001b[0m\u001b[1;33m(\u001b[0m\u001b[1;36m0\u001b[0m\u001b[1;33m,\u001b[0m \u001b[0mcombo_df\u001b[0m\u001b[1;33m,\u001b[0m \u001b[1;34m\"all\"\u001b[0m\u001b[1;33m)\u001b[0m\u001b[1;33m\u001b[0m\u001b[1;33m\u001b[0m\u001b[0m\n\u001b[0m",
      "\u001b[1;32m<ipython-input-3-29bb8b2d87c5>\u001b[0m in \u001b[0;36mplot_accuracies\u001b[1;34m(y_num, data, noise)\u001b[0m\n\u001b[0;32m     45\u001b[0m     \u001b[0mfig\u001b[0m \u001b[1;33m=\u001b[0m \u001b[0mplt0\u001b[0m\u001b[1;33m.\u001b[0m\u001b[0mget_figure\u001b[0m\u001b[1;33m(\u001b[0m\u001b[1;33m)\u001b[0m\u001b[1;33m\u001b[0m\u001b[1;33m\u001b[0m\u001b[0m\n\u001b[0;32m     46\u001b[0m     \u001b[0mfigname\u001b[0m \u001b[1;33m=\u001b[0m \u001b[0mplots\u001b[0m \u001b[1;33m+\u001b[0m \u001b[1;34m\"VAD_popTrain_{}Noise_{}.pdf\"\u001b[0m\u001b[1;33m.\u001b[0m\u001b[0mformat\u001b[0m\u001b[1;33m(\u001b[0m\u001b[0mnoise\u001b[0m\u001b[1;33m,\u001b[0m \u001b[0myvar\u001b[0m\u001b[1;33m)\u001b[0m\u001b[1;33m\u001b[0m\u001b[1;33m\u001b[0m\u001b[0m\n\u001b[1;32m---> 47\u001b[1;33m     \u001b[0mfig\u001b[0m\u001b[1;33m.\u001b[0m\u001b[0msavefig\u001b[0m\u001b[1;33m(\u001b[0m\u001b[0mfigname\u001b[0m\u001b[1;33m,\u001b[0m \u001b[0mdpi\u001b[0m\u001b[1;33m=\u001b[0m\u001b[1;36m300\u001b[0m\u001b[1;33m,\u001b[0m \u001b[0mbbox_inches\u001b[0m\u001b[1;33m=\u001b[0m\u001b[1;34m'tight'\u001b[0m\u001b[1;33m)\u001b[0m\u001b[1;33m\u001b[0m\u001b[1;33m\u001b[0m\u001b[0m\n\u001b[0m",
      "\u001b[1;32mc:\\python\\python38\\lib\\site-packages\\matplotlib\\figure.py\u001b[0m in \u001b[0;36msavefig\u001b[1;34m(self, fname, transparent, **kwargs)\u001b[0m\n\u001b[0;32m   2309\u001b[0m                 \u001b[0mpatch\u001b[0m\u001b[1;33m.\u001b[0m\u001b[0mset_edgecolor\u001b[0m\u001b[1;33m(\u001b[0m\u001b[1;34m'none'\u001b[0m\u001b[1;33m)\u001b[0m\u001b[1;33m\u001b[0m\u001b[1;33m\u001b[0m\u001b[0m\n\u001b[0;32m   2310\u001b[0m \u001b[1;33m\u001b[0m\u001b[0m\n\u001b[1;32m-> 2311\u001b[1;33m         \u001b[0mself\u001b[0m\u001b[1;33m.\u001b[0m\u001b[0mcanvas\u001b[0m\u001b[1;33m.\u001b[0m\u001b[0mprint_figure\u001b[0m\u001b[1;33m(\u001b[0m\u001b[0mfname\u001b[0m\u001b[1;33m,\u001b[0m \u001b[1;33m**\u001b[0m\u001b[0mkwargs\u001b[0m\u001b[1;33m)\u001b[0m\u001b[1;33m\u001b[0m\u001b[1;33m\u001b[0m\u001b[0m\n\u001b[0m\u001b[0;32m   2312\u001b[0m \u001b[1;33m\u001b[0m\u001b[0m\n\u001b[0;32m   2313\u001b[0m         \u001b[1;32mif\u001b[0m \u001b[0mtransparent\u001b[0m\u001b[1;33m:\u001b[0m\u001b[1;33m\u001b[0m\u001b[1;33m\u001b[0m\u001b[0m\n",
      "\u001b[1;32mc:\\python\\python38\\lib\\site-packages\\matplotlib\\backend_bases.py\u001b[0m in \u001b[0;36mprint_figure\u001b[1;34m(self, filename, dpi, facecolor, edgecolor, orientation, format, bbox_inches, pad_inches, bbox_extra_artists, backend, **kwargs)\u001b[0m\n\u001b[0;32m   2208\u001b[0m \u001b[1;33m\u001b[0m\u001b[0m\n\u001b[0;32m   2209\u001b[0m             \u001b[1;32mtry\u001b[0m\u001b[1;33m:\u001b[0m\u001b[1;33m\u001b[0m\u001b[1;33m\u001b[0m\u001b[0m\n\u001b[1;32m-> 2210\u001b[1;33m                 result = print_method(\n\u001b[0m\u001b[0;32m   2211\u001b[0m                     \u001b[0mfilename\u001b[0m\u001b[1;33m,\u001b[0m\u001b[1;33m\u001b[0m\u001b[1;33m\u001b[0m\u001b[0m\n\u001b[0;32m   2212\u001b[0m                     \u001b[0mdpi\u001b[0m\u001b[1;33m=\u001b[0m\u001b[0mdpi\u001b[0m\u001b[1;33m,\u001b[0m\u001b[1;33m\u001b[0m\u001b[1;33m\u001b[0m\u001b[0m\n",
      "\u001b[1;32mc:\\python\\python38\\lib\\site-packages\\matplotlib\\backend_bases.py\u001b[0m in \u001b[0;36mwrapper\u001b[1;34m(*args, **kwargs)\u001b[0m\n\u001b[0;32m   1637\u001b[0m             \u001b[0mkwargs\u001b[0m\u001b[1;33m.\u001b[0m\u001b[0mpop\u001b[0m\u001b[1;33m(\u001b[0m\u001b[0marg\u001b[0m\u001b[1;33m)\u001b[0m\u001b[1;33m\u001b[0m\u001b[1;33m\u001b[0m\u001b[0m\n\u001b[0;32m   1638\u001b[0m \u001b[1;33m\u001b[0m\u001b[0m\n\u001b[1;32m-> 1639\u001b[1;33m         \u001b[1;32mreturn\u001b[0m \u001b[0mfunc\u001b[0m\u001b[1;33m(\u001b[0m\u001b[1;33m*\u001b[0m\u001b[0margs\u001b[0m\u001b[1;33m,\u001b[0m \u001b[1;33m**\u001b[0m\u001b[0mkwargs\u001b[0m\u001b[1;33m)\u001b[0m\u001b[1;33m\u001b[0m\u001b[1;33m\u001b[0m\u001b[0m\n\u001b[0m\u001b[0;32m   1640\u001b[0m \u001b[1;33m\u001b[0m\u001b[0m\n\u001b[0;32m   1641\u001b[0m     \u001b[1;32mreturn\u001b[0m \u001b[0mwrapper\u001b[0m\u001b[1;33m\u001b[0m\u001b[1;33m\u001b[0m\u001b[0m\n",
      "\u001b[1;32mc:\\python\\python38\\lib\\site-packages\\matplotlib\\backends\\backend_pdf.py\u001b[0m in \u001b[0;36mprint_pdf\u001b[1;34m(self, filename, dpi, bbox_inches_restore, metadata)\u001b[0m\n\u001b[0;32m   2584\u001b[0m             \u001b[0mfile\u001b[0m \u001b[1;33m=\u001b[0m \u001b[0mfilename\u001b[0m\u001b[1;33m.\u001b[0m\u001b[0m_file\u001b[0m\u001b[1;33m\u001b[0m\u001b[1;33m\u001b[0m\u001b[0m\n\u001b[0;32m   2585\u001b[0m         \u001b[1;32melse\u001b[0m\u001b[1;33m:\u001b[0m\u001b[1;33m\u001b[0m\u001b[1;33m\u001b[0m\u001b[0m\n\u001b[1;32m-> 2586\u001b[1;33m             \u001b[0mfile\u001b[0m \u001b[1;33m=\u001b[0m \u001b[0mPdfFile\u001b[0m\u001b[1;33m(\u001b[0m\u001b[0mfilename\u001b[0m\u001b[1;33m,\u001b[0m \u001b[0mmetadata\u001b[0m\u001b[1;33m=\u001b[0m\u001b[0mmetadata\u001b[0m\u001b[1;33m)\u001b[0m\u001b[1;33m\u001b[0m\u001b[1;33m\u001b[0m\u001b[0m\n\u001b[0m\u001b[0;32m   2587\u001b[0m         \u001b[1;32mtry\u001b[0m\u001b[1;33m:\u001b[0m\u001b[1;33m\u001b[0m\u001b[1;33m\u001b[0m\u001b[0m\n\u001b[0;32m   2588\u001b[0m             \u001b[0mfile\u001b[0m\u001b[1;33m.\u001b[0m\u001b[0mnewPage\u001b[0m\u001b[1;33m(\u001b[0m\u001b[0mwidth\u001b[0m\u001b[1;33m,\u001b[0m \u001b[0mheight\u001b[0m\u001b[1;33m)\u001b[0m\u001b[1;33m\u001b[0m\u001b[1;33m\u001b[0m\u001b[0m\n",
      "\u001b[1;32mc:\\python\\python38\\lib\\site-packages\\matplotlib\\backends\\backend_pdf.py\u001b[0m in \u001b[0;36m__init__\u001b[1;34m(self, filename, metadata)\u001b[0m\n\u001b[0;32m    560\u001b[0m         \u001b[0mself\u001b[0m\u001b[1;33m.\u001b[0m\u001b[0moriginal_file_like\u001b[0m \u001b[1;33m=\u001b[0m \u001b[1;32mNone\u001b[0m\u001b[1;33m\u001b[0m\u001b[1;33m\u001b[0m\u001b[0m\n\u001b[0;32m    561\u001b[0m         \u001b[0mself\u001b[0m\u001b[1;33m.\u001b[0m\u001b[0mtell_base\u001b[0m \u001b[1;33m=\u001b[0m \u001b[1;36m0\u001b[0m\u001b[1;33m\u001b[0m\u001b[1;33m\u001b[0m\u001b[0m\n\u001b[1;32m--> 562\u001b[1;33m         \u001b[0mfh\u001b[0m\u001b[1;33m,\u001b[0m \u001b[0mopened\u001b[0m \u001b[1;33m=\u001b[0m \u001b[0mcbook\u001b[0m\u001b[1;33m.\u001b[0m\u001b[0mto_filehandle\u001b[0m\u001b[1;33m(\u001b[0m\u001b[0mfilename\u001b[0m\u001b[1;33m,\u001b[0m \u001b[1;34m\"wb\"\u001b[0m\u001b[1;33m,\u001b[0m \u001b[0mreturn_opened\u001b[0m\u001b[1;33m=\u001b[0m\u001b[1;32mTrue\u001b[0m\u001b[1;33m)\u001b[0m\u001b[1;33m\u001b[0m\u001b[1;33m\u001b[0m\u001b[0m\n\u001b[0m\u001b[0;32m    563\u001b[0m         \u001b[1;32mif\u001b[0m \u001b[1;32mnot\u001b[0m \u001b[0mopened\u001b[0m\u001b[1;33m:\u001b[0m\u001b[1;33m\u001b[0m\u001b[1;33m\u001b[0m\u001b[0m\n\u001b[0;32m    564\u001b[0m             \u001b[1;32mtry\u001b[0m\u001b[1;33m:\u001b[0m\u001b[1;33m\u001b[0m\u001b[1;33m\u001b[0m\u001b[0m\n",
      "\u001b[1;32mc:\\python\\python38\\lib\\site-packages\\matplotlib\\cbook\\__init__.py\u001b[0m in \u001b[0;36mto_filehandle\u001b[1;34m(fname, flag, return_opened, encoding)\u001b[0m\n\u001b[0;32m    406\u001b[0m             \u001b[0mfh\u001b[0m \u001b[1;33m=\u001b[0m \u001b[0mbz2\u001b[0m\u001b[1;33m.\u001b[0m\u001b[0mBZ2File\u001b[0m\u001b[1;33m(\u001b[0m\u001b[0mfname\u001b[0m\u001b[1;33m,\u001b[0m \u001b[0mflag\u001b[0m\u001b[1;33m)\u001b[0m\u001b[1;33m\u001b[0m\u001b[1;33m\u001b[0m\u001b[0m\n\u001b[0;32m    407\u001b[0m         \u001b[1;32melse\u001b[0m\u001b[1;33m:\u001b[0m\u001b[1;33m\u001b[0m\u001b[1;33m\u001b[0m\u001b[0m\n\u001b[1;32m--> 408\u001b[1;33m             \u001b[0mfh\u001b[0m \u001b[1;33m=\u001b[0m \u001b[0mopen\u001b[0m\u001b[1;33m(\u001b[0m\u001b[0mfname\u001b[0m\u001b[1;33m,\u001b[0m \u001b[0mflag\u001b[0m\u001b[1;33m,\u001b[0m \u001b[0mencoding\u001b[0m\u001b[1;33m=\u001b[0m\u001b[0mencoding\u001b[0m\u001b[1;33m)\u001b[0m\u001b[1;33m\u001b[0m\u001b[1;33m\u001b[0m\u001b[0m\n\u001b[0m\u001b[0;32m    409\u001b[0m         \u001b[0mopened\u001b[0m \u001b[1;33m=\u001b[0m \u001b[1;32mTrue\u001b[0m\u001b[1;33m\u001b[0m\u001b[1;33m\u001b[0m\u001b[0m\n\u001b[0;32m    410\u001b[0m     \u001b[1;32melif\u001b[0m \u001b[0mhasattr\u001b[0m\u001b[1;33m(\u001b[0m\u001b[0mfname\u001b[0m\u001b[1;33m,\u001b[0m \u001b[1;34m'seek'\u001b[0m\u001b[1;33m)\u001b[0m\u001b[1;33m:\u001b[0m\u001b[1;33m\u001b[0m\u001b[1;33m\u001b[0m\u001b[0m\n",
      "\u001b[1;31mFileNotFoundError\u001b[0m: [Errno 2] No such file or directory: '/home/djanke3/Documents/Spyder/plots/VAD_popTrain_allNoise_medians.pdf'"
     ]
    },
    {
     "data": {
      "image/png": "[encoded data removed]",
      "text/plain": [
       "<Figure size 208.8x180 with 1 Axes>"
      ]
     },
     "metadata": {
      "needs_background": "light"
     },
     "output_type": "display_data"
    }
   ],
   "source": [
    "combo_df = pd.DataFrame.from_dict(stats, orient = \"index\")\n",
    "combo_df = combo_df[combo_df[\"passes\"] < 4001]\n",
    "\n",
    "plot_accuracies(0, combo_df, \"all\")\n"
   ]
  },
  {
   "cell_type": "code",
   "execution_count": null,
   "metadata": {},
   "outputs": [],
   "source": [
    "plot_accuracies(1, combo_df, \"all\")"
   ]
  },
  {
   "cell_type": "markdown",
   "metadata": {},
   "source": [
    "## Equal Passes, Noise at Layer Inputs"
   ]
  },
  {
   "cell_type": "code",
   "execution_count": null,
   "metadata": {},
   "outputs": [],
   "source": [
    "with open(\"PopulationNoiseResults_inputNoise_equalPasses2.json\", 'r') as pn:\n",
    "    data = {k:v for k,v in json.load(pn).items() if type(v) is not int}\n",
    "\n",
    "with open(\"PopulationNoiseResults_inputNoise_equalPasses1.json\", 'r') as pn:\n",
    "    data.update({k:v for k,v in json.load(pn).items() if type(v) is not int}) # and int(k.split('_')[-1]) in [200, 400, 600, 800, 1000, 1200, 1400, 1600, 1800, 2000]} # and k.split('_')[-1] in ['trial0', '0', '2', '4', '6', '8']}\n",
    "#print(data.keys())\n",
    "\n",
    "#print(data.keys())\n",
    "\n",
    "def str_to_list(in_string):\n",
    "    temp = in_string[1:-1].split(',')\n",
    "    return [int(s) for s in temp]\n",
    "\n",
    "score_num = 1\n",
    "df = pd.DataFrame()\n",
    "stats = {}\n",
    "stats_combined = {}\n",
    "for t,d in data.items():\n",
    "    stats[t] = {}\n",
    "    acc = d[\"accs\"]\n",
    "    \n",
    "    scores = list(acc.values())\n",
    "    scores = np.vstack([np.array(s) for s in scores])[score_num]\n",
    "    \n",
    "    stats[t][\"medians\"] = np.median(scores) * 100\n",
    "    stats[t][\"iqr\"] = (np.quantile(scores, 0.75) - np.quantile(scores, 0.25)) * 100\n",
    "    data[t] = d\n",
    "    \n",
    "    d[\"train\"] = d[\"accs\"][\"train\"]\n",
    "    d[\"val\"] = d[\"accs\"][\"val\"]\n",
    "    \n",
    "    d[\"p\"] = int(t.split(\"trial\")[-1].split('_')[0])\n",
    "    d[\"passes\"] = int(t.split(\"trial\")[-1].split('_')[1])\n",
    "    \n",
    "    stats[t][\"p\"] = d[\"p\"]\n",
    "    stats[t][\"passes\"] = d[\"passes\"]\n",
    "    \n",
    "    stats_combined[t[:-2]] = stats_combined.get(t[:-2], {})\n",
    "    stats_combined[t[:-2]][\"p\"] = d[\"p\"]\n",
    "    stats_combined[t[:-2]][\"passes\"] = d[\"passes\"]\n",
    "    stats_combined[t[:-2]][\"accs\"] = stats_combined[t[:-2]].get(\"accs\", []) + list(scores)\n",
    "    del d[\"accs\"]\n",
    "    del d[\"shape\"]\n",
    "    \n",
    "    temp_df =  pd.DataFrame.from_dict(d, orient = \"columns\")\n",
    "    df = pd.concat([df, temp_df], ignore_index = True)\n",
    "    \n",
    "for k,v in stats_combined.items():\n",
    "    v[\"medians\"] = np.median(v[\"accs\"])\n",
    "    v[\"iqr\"] = np.quantile(v[\"accs\"], 0.75) - np.quantile(v[\"accs\"], 0.25)\n",
    "    v[\"samples\"] = len(v[\"accs\"])\n",
    "    del v[\"accs\"]"
   ]
  },
  {
   "cell_type": "code",
   "execution_count": null,
   "metadata": {},
   "outputs": [],
   "source": [
    "combo_df = pd.DataFrame.from_dict(stats, orient = \"index\")\n",
    "combo_df = combo_df[combo_df[\"passes\"] < 4001]\n",
    "\n",
    "plot_accuracies(0, combo_df, \"in\")"
   ]
  },
  {
   "cell_type": "code",
   "execution_count": null,
   "metadata": {},
   "outputs": [],
   "source": [
    "plot_accuracies(1, combo_df, \"in\")"
   ]
  }
 ],
 "metadata": {
  "kernelspec": {
   "display_name": "Python 3",
   "language": "python",
   "name": "python3"
  },
  "language_info": {
   "codemirror_mode": {
    "name": "ipython",
    "version": 3
   },
   "file_extension": ".py",
   "mimetype": "text/x-python",
   "name": "python",
   "nbconvert_exporter": "python",
   "pygments_lexer": "ipython3",
   "version": "3.8.5"
  }
 },
 "nbformat": 4,
 "nbformat_minor": 4
}
